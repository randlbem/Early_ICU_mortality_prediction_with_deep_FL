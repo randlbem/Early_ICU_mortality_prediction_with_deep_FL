{
 "cells": [
  {
   "cell_type": "code",
   "execution_count": 1,
   "metadata": {},
   "outputs": [],
   "source": [
    "import pandas as pd\n",
    "import numpy as np\n",
    "import json"
   ]
  },
  {
   "cell_type": "code",
   "execution_count": 2,
   "metadata": {},
   "outputs": [],
   "source": [
    "MIN_LOS_ICU = 48"
   ]
  },
  {
   "cell_type": "markdown",
   "metadata": {},
   "source": [
    "# Load data"
   ]
  },
  {
   "cell_type": "code",
   "execution_count": 3,
   "metadata": {},
   "outputs": [],
   "source": [
    "data_path = f'data/min{MIN_LOS_ICU:d}h/'"
   ]
  },
  {
   "cell_type": "code",
   "execution_count": 4,
   "metadata": {},
   "outputs": [
    {
     "name": "stdout",
     "output_type": "stream",
     "text": [
      "Minimum stay: 48h\n"
     ]
    }
   ],
   "source": [
    "# load splits for cml:\n",
    "splits_cml = None\n",
    "\n",
    "# parse file\n",
    "with open(data_path + f'splits_cml.json') as file:\n",
    "    splits_cml = json.load(file)\n",
    "    \n",
    "# print miniumum icu stay of cohort:\n",
    "print(f'Minimum stay: {splits_cml[\"min_los_icu\"]:d}h')\n",
    "\n",
    "# check miniumum icu stay of cohort:\n",
    "if splits_cml[\"min_los_icu\"] != MIN_LOS_ICU:\n",
    "    raise Exception(f'Minimum stay not matching!')"
   ]
  },
  {
   "cell_type": "code",
   "execution_count": 5,
   "metadata": {},
   "outputs": [
    {
     "name": "stdout",
     "output_type": "stream",
     "text": [
      "Minimum stay 2 clients: 48h\n",
      "Minimum stay 4 clients: 48h\n"
     ]
    }
   ],
   "source": [
    "# load splits for lml:\n",
    "splits_lml = {}\n",
    "\n",
    "for n in [2, 4]:\n",
    "    # parse file\n",
    "    with open(data_path + f'splits_lml{n:d}.json') as file:\n",
    "        splits_lml[n] = json.load(file)\n",
    "    \n",
    "    # print miniumum icu stay of cohort:\n",
    "    print(f'Minimum stay {n:d} clients: {splits_lml[n][\"min_los_icu\"]:d}h')\n",
    "    \n",
    "    # check miniumum icu stay of cohort:\n",
    "    if splits_lml[n][\"min_los_icu\"] != MIN_LOS_ICU:\n",
    "        raise Exception(f'Minimum stay not matching!')"
   ]
  },
  {
   "cell_type": "code",
   "execution_count": 6,
   "metadata": {},
   "outputs": [
    {
     "name": "stdout",
     "output_type": "stream",
     "text": [
      "Minimum stay 2 clients: 48h\n",
      "Minimum stay 4 clients: 48h\n"
     ]
    }
   ],
   "source": [
    "# load splits for fl:\n",
    "splits_fl = {}\n",
    "\n",
    "for n in [2, 4]:\n",
    "    # parse file\n",
    "    with open(data_path + f'splits_fl{n:d}.json') as file:\n",
    "        splits_fl[n] = json.load(file)\n",
    "    \n",
    "    # print miniumum icu stay of cohort:\n",
    "    print(f'Minimum stay {n:d} clients: {splits_fl[n][\"min_los_icu\"]:d}h')\n",
    "    \n",
    "    # check miniumum icu stay of cohort:\n",
    "    if splits_fl[n][\"min_los_icu\"] != MIN_LOS_ICU:\n",
    "        raise Exception(f'Minimum stay not matching!')"
   ]
  },
  {
   "cell_type": "code",
   "execution_count": 7,
   "metadata": {},
   "outputs": [
    {
     "data": {
      "text/html": [
       "<div>\n",
       "<style scoped>\n",
       "    .dataframe tbody tr th:only-of-type {\n",
       "        vertical-align: middle;\n",
       "    }\n",
       "\n",
       "    .dataframe tbody tr th {\n",
       "        vertical-align: top;\n",
       "    }\n",
       "\n",
       "    .dataframe thead th {\n",
       "        text-align: right;\n",
       "    }\n",
       "</style>\n",
       "<table border=\"1\" class=\"dataframe\">\n",
       "  <thead>\n",
       "    <tr style=\"text-align: right;\">\n",
       "      <th></th>\n",
       "      <th>subject_id</th>\n",
       "      <th>hadm_id</th>\n",
       "      <th>icustay_id</th>\n",
       "      <th>gender</th>\n",
       "      <th>dod</th>\n",
       "      <th>admittime</th>\n",
       "      <th>dischtime</th>\n",
       "      <th>los_hospital</th>\n",
       "      <th>admission_age</th>\n",
       "      <th>ethnicity</th>\n",
       "      <th>...</th>\n",
       "      <th>first_hosp_stay</th>\n",
       "      <th>intime</th>\n",
       "      <th>outtime</th>\n",
       "      <th>los_icu</th>\n",
       "      <th>icustay_seq</th>\n",
       "      <th>first_icu_stay_current_hosp</th>\n",
       "      <th>first_icu_stay_patient</th>\n",
       "      <th>first_careunit</th>\n",
       "      <th>deathtime_icu</th>\n",
       "      <th>label_death_icu</th>\n",
       "    </tr>\n",
       "  </thead>\n",
       "  <tbody>\n",
       "    <tr>\n",
       "      <th>0</th>\n",
       "      <td>3</td>\n",
       "      <td>145834</td>\n",
       "      <td>211552</td>\n",
       "      <td>M</td>\n",
       "      <td>2102-06-14</td>\n",
       "      <td>2101-10-20 19:08:00</td>\n",
       "      <td>2101-10-31 13:58:00</td>\n",
       "      <td>10.784722</td>\n",
       "      <td>76.526792</td>\n",
       "      <td>WHITE</td>\n",
       "      <td>...</td>\n",
       "      <td>True</td>\n",
       "      <td>2101-10-20 19:10:11</td>\n",
       "      <td>2101-10-26 20:43:09</td>\n",
       "      <td>6.064560</td>\n",
       "      <td>1</td>\n",
       "      <td>True</td>\n",
       "      <td>True</td>\n",
       "      <td>MICU</td>\n",
       "      <td>NaT</td>\n",
       "      <td>0</td>\n",
       "    </tr>\n",
       "    <tr>\n",
       "      <th>1</th>\n",
       "      <td>6</td>\n",
       "      <td>107064</td>\n",
       "      <td>228232</td>\n",
       "      <td>F</td>\n",
       "      <td>NaT</td>\n",
       "      <td>2175-05-30 07:15:00</td>\n",
       "      <td>2175-06-15 16:00:00</td>\n",
       "      <td>16.364583</td>\n",
       "      <td>65.942297</td>\n",
       "      <td>WHITE</td>\n",
       "      <td>...</td>\n",
       "      <td>True</td>\n",
       "      <td>2175-05-30 21:30:54</td>\n",
       "      <td>2175-06-03 13:39:54</td>\n",
       "      <td>3.672917</td>\n",
       "      <td>1</td>\n",
       "      <td>True</td>\n",
       "      <td>True</td>\n",
       "      <td>SICU</td>\n",
       "      <td>NaT</td>\n",
       "      <td>0</td>\n",
       "    </tr>\n",
       "    <tr>\n",
       "      <th>2</th>\n",
       "      <td>9</td>\n",
       "      <td>150750</td>\n",
       "      <td>220597</td>\n",
       "      <td>M</td>\n",
       "      <td>2149-11-14</td>\n",
       "      <td>2149-11-09 13:06:00</td>\n",
       "      <td>2149-11-14 10:15:00</td>\n",
       "      <td>4.881250</td>\n",
       "      <td>41.790228</td>\n",
       "      <td>UNKNOWN/NOT SPECIFIED</td>\n",
       "      <td>...</td>\n",
       "      <td>True</td>\n",
       "      <td>2149-11-09 13:07:02</td>\n",
       "      <td>2149-11-14 20:52:14</td>\n",
       "      <td>5.323056</td>\n",
       "      <td>1</td>\n",
       "      <td>True</td>\n",
       "      <td>True</td>\n",
       "      <td>MICU</td>\n",
       "      <td>2149-11-14 10:15:00</td>\n",
       "      <td>1</td>\n",
       "    </tr>\n",
       "    <tr>\n",
       "      <th>3</th>\n",
       "      <td>12</td>\n",
       "      <td>112213</td>\n",
       "      <td>232669</td>\n",
       "      <td>M</td>\n",
       "      <td>2104-08-20</td>\n",
       "      <td>2104-08-07 10:15:00</td>\n",
       "      <td>2104-08-20 02:57:00</td>\n",
       "      <td>12.695833</td>\n",
       "      <td>72.374177</td>\n",
       "      <td>WHITE</td>\n",
       "      <td>...</td>\n",
       "      <td>True</td>\n",
       "      <td>2104-08-08 02:08:17</td>\n",
       "      <td>2104-08-15 17:22:25</td>\n",
       "      <td>7.634815</td>\n",
       "      <td>1</td>\n",
       "      <td>True</td>\n",
       "      <td>True</td>\n",
       "      <td>SICU</td>\n",
       "      <td>NaT</td>\n",
       "      <td>0</td>\n",
       "    </tr>\n",
       "    <tr>\n",
       "      <th>4</th>\n",
       "      <td>13</td>\n",
       "      <td>143045</td>\n",
       "      <td>263738</td>\n",
       "      <td>F</td>\n",
       "      <td>NaT</td>\n",
       "      <td>2167-01-08 18:43:00</td>\n",
       "      <td>2167-01-15 15:15:00</td>\n",
       "      <td>6.855556</td>\n",
       "      <td>39.866118</td>\n",
       "      <td>WHITE</td>\n",
       "      <td>...</td>\n",
       "      <td>True</td>\n",
       "      <td>2167-01-08 18:44:25</td>\n",
       "      <td>2167-01-12 10:43:31</td>\n",
       "      <td>3.666042</td>\n",
       "      <td>1</td>\n",
       "      <td>True</td>\n",
       "      <td>True</td>\n",
       "      <td>CCU</td>\n",
       "      <td>NaT</td>\n",
       "      <td>0</td>\n",
       "    </tr>\n",
       "  </tbody>\n",
       "</table>\n",
       "<p>5 rows × 23 columns</p>\n",
       "</div>"
      ],
      "text/plain": [
       "   subject_id  hadm_id  icustay_id gender        dod           admittime  \\\n",
       "0           3   145834      211552      M 2102-06-14 2101-10-20 19:08:00   \n",
       "1           6   107064      228232      F        NaT 2175-05-30 07:15:00   \n",
       "2           9   150750      220597      M 2149-11-14 2149-11-09 13:06:00   \n",
       "3          12   112213      232669      M 2104-08-20 2104-08-07 10:15:00   \n",
       "4          13   143045      263738      F        NaT 2167-01-08 18:43:00   \n",
       "\n",
       "            dischtime  los_hospital  admission_age              ethnicity  \\\n",
       "0 2101-10-31 13:58:00     10.784722      76.526792                  WHITE   \n",
       "1 2175-06-15 16:00:00     16.364583      65.942297                  WHITE   \n",
       "2 2149-11-14 10:15:00      4.881250      41.790228  UNKNOWN/NOT SPECIFIED   \n",
       "3 2104-08-20 02:57:00     12.695833      72.374177                  WHITE   \n",
       "4 2167-01-15 15:15:00      6.855556      39.866118                  WHITE   \n",
       "\n",
       "   ... first_hosp_stay              intime             outtime   los_icu  \\\n",
       "0  ...            True 2101-10-20 19:10:11 2101-10-26 20:43:09  6.064560   \n",
       "1  ...            True 2175-05-30 21:30:54 2175-06-03 13:39:54  3.672917   \n",
       "2  ...            True 2149-11-09 13:07:02 2149-11-14 20:52:14  5.323056   \n",
       "3  ...            True 2104-08-08 02:08:17 2104-08-15 17:22:25  7.634815   \n",
       "4  ...            True 2167-01-08 18:44:25 2167-01-12 10:43:31  3.666042   \n",
       "\n",
       "  icustay_seq first_icu_stay_current_hosp  first_icu_stay_patient  \\\n",
       "0           1                        True                    True   \n",
       "1           1                        True                    True   \n",
       "2           1                        True                    True   \n",
       "3           1                        True                    True   \n",
       "4           1                        True                    True   \n",
       "\n",
       "   first_careunit       deathtime_icu  label_death_icu  \n",
       "0            MICU                 NaT                0  \n",
       "1            SICU                 NaT                0  \n",
       "2            MICU 2149-11-14 10:15:00                1  \n",
       "3            SICU                 NaT                0  \n",
       "4             CCU                 NaT                0  \n",
       "\n",
       "[5 rows x 23 columns]"
      ]
     },
     "execution_count": 7,
     "metadata": {},
     "output_type": "execute_result"
    }
   ],
   "source": [
    "# load cohort:\n",
    "demographics = pd.read_pickle(data_path + f'demographics_min{splits_cml[\"min_los_icu\"]:d}h.pickle')\n",
    "\n",
    "# print statistics:\n",
    "demographics.head()"
   ]
  },
  {
   "cell_type": "markdown",
   "metadata": {},
   "source": [
    "## Filter demographics"
   ]
  },
  {
   "cell_type": "code",
   "execution_count": 8,
   "metadata": {},
   "outputs": [
    {
     "name": "stdout",
     "output_type": "stream",
     "text": [
      "Number of patients:    10226/20200\n",
      "Labels:                     [0, 1]\n"
     ]
    }
   ],
   "source": [
    "# create a list of all used icustay ids:\n",
    "icustay_ids = []\n",
    "for i in range(5):\n",
    "    icustay_ids.extend(splits_cml[\"folds\"][i][\"ids_test\"])\n",
    "\n",
    "# print statistics:\n",
    "print(f'Number of patients:{len(icustay_ids ):>9d}/{demographics.shape[0]:>5d}')\n",
    "print(f'Labels:            {str(sorted(demographics.label_death_icu.unique())):>15}')"
   ]
  },
  {
   "cell_type": "code",
   "execution_count": 9,
   "metadata": {},
   "outputs": [
    {
     "data": {
      "text/html": [
       "<div>\n",
       "<style scoped>\n",
       "    .dataframe tbody tr th:only-of-type {\n",
       "        vertical-align: middle;\n",
       "    }\n",
       "\n",
       "    .dataframe tbody tr th {\n",
       "        vertical-align: top;\n",
       "    }\n",
       "\n",
       "    .dataframe thead th {\n",
       "        text-align: right;\n",
       "    }\n",
       "</style>\n",
       "<table border=\"1\" class=\"dataframe\">\n",
       "  <thead>\n",
       "    <tr style=\"text-align: right;\">\n",
       "      <th></th>\n",
       "      <th>subject_id</th>\n",
       "      <th>hadm_id</th>\n",
       "      <th>icustay_id</th>\n",
       "      <th>gender</th>\n",
       "      <th>dod</th>\n",
       "      <th>admittime</th>\n",
       "      <th>dischtime</th>\n",
       "      <th>los_hospital</th>\n",
       "      <th>admission_age</th>\n",
       "      <th>ethnicity</th>\n",
       "      <th>...</th>\n",
       "      <th>first_hosp_stay</th>\n",
       "      <th>intime</th>\n",
       "      <th>outtime</th>\n",
       "      <th>los_icu</th>\n",
       "      <th>icustay_seq</th>\n",
       "      <th>first_icu_stay_current_hosp</th>\n",
       "      <th>first_icu_stay_patient</th>\n",
       "      <th>first_careunit</th>\n",
       "      <th>deathtime_icu</th>\n",
       "      <th>label_death_icu</th>\n",
       "    </tr>\n",
       "  </thead>\n",
       "  <tbody>\n",
       "    <tr>\n",
       "      <th>1</th>\n",
       "      <td>6</td>\n",
       "      <td>107064</td>\n",
       "      <td>228232</td>\n",
       "      <td>F</td>\n",
       "      <td>NaT</td>\n",
       "      <td>2175-05-30 07:15:00</td>\n",
       "      <td>2175-06-15 16:00:00</td>\n",
       "      <td>16.364583</td>\n",
       "      <td>65.942297</td>\n",
       "      <td>WHITE</td>\n",
       "      <td>...</td>\n",
       "      <td>True</td>\n",
       "      <td>2175-05-30 21:30:54</td>\n",
       "      <td>2175-06-03 13:39:54</td>\n",
       "      <td>3.672917</td>\n",
       "      <td>1</td>\n",
       "      <td>True</td>\n",
       "      <td>True</td>\n",
       "      <td>SICU</td>\n",
       "      <td>NaT</td>\n",
       "      <td>0</td>\n",
       "    </tr>\n",
       "    <tr>\n",
       "      <th>4</th>\n",
       "      <td>13</td>\n",
       "      <td>143045</td>\n",
       "      <td>263738</td>\n",
       "      <td>F</td>\n",
       "      <td>NaT</td>\n",
       "      <td>2167-01-08 18:43:00</td>\n",
       "      <td>2167-01-15 15:15:00</td>\n",
       "      <td>6.855556</td>\n",
       "      <td>39.866118</td>\n",
       "      <td>WHITE</td>\n",
       "      <td>...</td>\n",
       "      <td>True</td>\n",
       "      <td>2167-01-08 18:44:25</td>\n",
       "      <td>2167-01-12 10:43:31</td>\n",
       "      <td>3.666042</td>\n",
       "      <td>1</td>\n",
       "      <td>True</td>\n",
       "      <td>True</td>\n",
       "      <td>CCU</td>\n",
       "      <td>NaT</td>\n",
       "      <td>0</td>\n",
       "    </tr>\n",
       "    <tr>\n",
       "      <th>6</th>\n",
       "      <td>25</td>\n",
       "      <td>129635</td>\n",
       "      <td>203487</td>\n",
       "      <td>M</td>\n",
       "      <td>NaT</td>\n",
       "      <td>2160-11-02 02:06:00</td>\n",
       "      <td>2160-11-05 14:55:00</td>\n",
       "      <td>3.534028</td>\n",
       "      <td>58.950330</td>\n",
       "      <td>WHITE</td>\n",
       "      <td>...</td>\n",
       "      <td>True</td>\n",
       "      <td>2160-11-02 03:16:23</td>\n",
       "      <td>2160-11-05 16:23:27</td>\n",
       "      <td>3.546574</td>\n",
       "      <td>1</td>\n",
       "      <td>True</td>\n",
       "      <td>True</td>\n",
       "      <td>CCU</td>\n",
       "      <td>NaT</td>\n",
       "      <td>0</td>\n",
       "    </tr>\n",
       "    <tr>\n",
       "      <th>7</th>\n",
       "      <td>26</td>\n",
       "      <td>197661</td>\n",
       "      <td>244882</td>\n",
       "      <td>M</td>\n",
       "      <td>2128-02-25</td>\n",
       "      <td>2126-05-06 15:16:00</td>\n",
       "      <td>2126-05-13 15:00:00</td>\n",
       "      <td>6.988889</td>\n",
       "      <td>72.008179</td>\n",
       "      <td>UNKNOWN/NOT SPECIFIED</td>\n",
       "      <td>...</td>\n",
       "      <td>True</td>\n",
       "      <td>2126-05-07 09:52:30</td>\n",
       "      <td>2126-05-09 13:15:05</td>\n",
       "      <td>2.140683</td>\n",
       "      <td>1</td>\n",
       "      <td>True</td>\n",
       "      <td>True</td>\n",
       "      <td>CCU</td>\n",
       "      <td>NaT</td>\n",
       "      <td>0</td>\n",
       "    </tr>\n",
       "    <tr>\n",
       "      <th>12</th>\n",
       "      <td>41</td>\n",
       "      <td>101757</td>\n",
       "      <td>261027</td>\n",
       "      <td>M</td>\n",
       "      <td>2133-09-30</td>\n",
       "      <td>2132-12-31 10:30:00</td>\n",
       "      <td>2133-01-27 15:45:00</td>\n",
       "      <td>27.218750</td>\n",
       "      <td>56.642648</td>\n",
       "      <td>WHITE</td>\n",
       "      <td>...</td>\n",
       "      <td>True</td>\n",
       "      <td>2133-01-03 06:34:40</td>\n",
       "      <td>2133-01-06 16:01:33</td>\n",
       "      <td>3.393669</td>\n",
       "      <td>1</td>\n",
       "      <td>True</td>\n",
       "      <td>True</td>\n",
       "      <td>SICU</td>\n",
       "      <td>NaT</td>\n",
       "      <td>0</td>\n",
       "    </tr>\n",
       "  </tbody>\n",
       "</table>\n",
       "<p>5 rows × 23 columns</p>\n",
       "</div>"
      ],
      "text/plain": [
       "    subject_id  hadm_id  icustay_id gender        dod           admittime  \\\n",
       "1            6   107064      228232      F        NaT 2175-05-30 07:15:00   \n",
       "4           13   143045      263738      F        NaT 2167-01-08 18:43:00   \n",
       "6           25   129635      203487      M        NaT 2160-11-02 02:06:00   \n",
       "7           26   197661      244882      M 2128-02-25 2126-05-06 15:16:00   \n",
       "12          41   101757      261027      M 2133-09-30 2132-12-31 10:30:00   \n",
       "\n",
       "             dischtime  los_hospital  admission_age              ethnicity  \\\n",
       "1  2175-06-15 16:00:00     16.364583      65.942297                  WHITE   \n",
       "4  2167-01-15 15:15:00      6.855556      39.866118                  WHITE   \n",
       "6  2160-11-05 14:55:00      3.534028      58.950330                  WHITE   \n",
       "7  2126-05-13 15:00:00      6.988889      72.008179  UNKNOWN/NOT SPECIFIED   \n",
       "12 2133-01-27 15:45:00     27.218750      56.642648                  WHITE   \n",
       "\n",
       "    ... first_hosp_stay              intime             outtime   los_icu  \\\n",
       "1   ...            True 2175-05-30 21:30:54 2175-06-03 13:39:54  3.672917   \n",
       "4   ...            True 2167-01-08 18:44:25 2167-01-12 10:43:31  3.666042   \n",
       "6   ...            True 2160-11-02 03:16:23 2160-11-05 16:23:27  3.546574   \n",
       "7   ...            True 2126-05-07 09:52:30 2126-05-09 13:15:05  2.140683   \n",
       "12  ...            True 2133-01-03 06:34:40 2133-01-06 16:01:33  3.393669   \n",
       "\n",
       "   icustay_seq first_icu_stay_current_hosp  first_icu_stay_patient  \\\n",
       "1            1                        True                    True   \n",
       "4            1                        True                    True   \n",
       "6            1                        True                    True   \n",
       "7            1                        True                    True   \n",
       "12           1                        True                    True   \n",
       "\n",
       "    first_careunit  deathtime_icu  label_death_icu  \n",
       "1             SICU            NaT                0  \n",
       "4              CCU            NaT                0  \n",
       "6              CCU            NaT                0  \n",
       "7              CCU            NaT                0  \n",
       "12            SICU            NaT                0  \n",
       "\n",
       "[5 rows x 23 columns]"
      ]
     },
     "execution_count": 9,
     "metadata": {},
     "output_type": "execute_result"
    }
   ],
   "source": [
    "# drop unused patients:\n",
    "demographics = demographics[demographics[\"icustay_id\"].isin(icustay_ids).values]\n",
    "\n",
    "demographics.head()"
   ]
  },
  {
   "cell_type": "markdown",
   "metadata": {},
   "source": [
    "# Check splits"
   ]
  },
  {
   "cell_type": "markdown",
   "metadata": {},
   "source": [
    "## Check test splits:"
   ]
  },
  {
   "cell_type": "code",
   "execution_count": 10,
   "metadata": {},
   "outputs": [
    {
     "name": "stdout",
     "output_type": "stream",
     "text": [
      "All checks passed! Test-sets are identical!\n"
     ]
    }
   ],
   "source": [
    "for n in [2, 4]:\n",
    "    for i in range(5):\n",
    "        if splits_cml[\"folds\"][i][\"ids_test\"] != splits_lml[n][\"folds\"][i][\"ids_test\"]:\n",
    "            raise Exception(f'Test-sets for lml ({n:d} clients) and cml do not match!')\n",
    "\n",
    "\n",
    "        if splits_cml[\"folds\"][i][\"ids_test\"] != splits_fl[n][\"folds\"][i][\"ids_test\"]:\n",
    "            raise Exception(f'Test-sets for fl ({n:d} clients) and cml do not match!')\n",
    "        \n",
    "print(\"All checks passed! Test-sets are identical!\")       "
   ]
  },
  {
   "cell_type": "markdown",
   "metadata": {},
   "source": [
    "## Check validation splits:"
   ]
  },
  {
   "cell_type": "code",
   "execution_count": 11,
   "metadata": {},
   "outputs": [
    {
     "name": "stdout",
     "output_type": "stream",
     "text": [
      "All checks passed! Validation-sets are identical!\n"
     ]
    }
   ],
   "source": [
    "for n in [2, 4]:\n",
    "    for i in range(5):\n",
    "        for j in range(n):\n",
    "            if splits_lml[n][\"folds\"][i][\"clients\"][j][\"ids_valid\"] != splits_fl[n][\"folds\"][i][\"clients\"][j][\"ids_valid\"]:\n",
    "                raise Exception(f'Validation-sets for lml and fl do not match ({n:d} clients)!')\n",
    "        \n",
    "print(\"All checks passed! Validation-sets are identical!\")       "
   ]
  },
  {
   "cell_type": "markdown",
   "metadata": {},
   "source": [
    "## Check training splits:"
   ]
  },
  {
   "cell_type": "code",
   "execution_count": 12,
   "metadata": {},
   "outputs": [
    {
     "name": "stdout",
     "output_type": "stream",
     "text": [
      "All checks passed! Training-sets are identical!\n"
     ]
    }
   ],
   "source": [
    "for n in [2, 4]:\n",
    "    for i in range(5):\n",
    "        for j in range(n):\n",
    "            if splits_lml[n][\"folds\"][i][\"clients\"][j][\"ids_train\"] != splits_fl[n][\"folds\"][i][\"clients\"][j][\"ids_train\"]:\n",
    "                raise Exception(f'Training-sets for lml and fl do not match ({n:d} clients)!')\n",
    "        \n",
    "print(\"All checks passed! Training-sets are identical!\")       "
   ]
  },
  {
   "cell_type": "markdown",
   "metadata": {},
   "source": [
    "# Print class distribution"
   ]
  },
  {
   "cell_type": "code",
   "execution_count": 13,
   "metadata": {},
   "outputs": [],
   "source": [
    "def describe_fold(fold):\n",
    "    # print header:\n",
    "    print('\\n----------------------------------------------------------------------------------------------------')\n",
    "    print(f'Fold {fold[\"fold\"]:d}')\n",
    "    print('----------------------------------------------------------------------------------------------------\\n')\n",
    "\n",
    "    # print test data class distribution:\n",
    "    data_test = demographics[demographics[\"icustay_id\"].isin(fold[\"ids_test\"])]\n",
    "\n",
    "    pos = np.sum(data_test.label_death_icu == 1)\n",
    "    neg = np.sum(data_test.label_death_icu == 0)\n",
    "    tot = data_test.shape[0]\n",
    "    \n",
    "    print(f'Test:         {pos:>5,d} deaths ({pos/tot*100:>5.1f}%) / {neg:>5,d} discharges ({neg/tot*100:>5.1f}%)', end='')\n",
    "    print(f'{\"labels: \" + str(sorted(data_test.label_death_icu.unique())):>37}')\n",
    "\n",
    "    for client in fold[\"clients\"]:\n",
    "         # print header:\n",
    "        print(f'\\nClient {client[\"client\"]:d}')\n",
    "        \n",
    "        # print training data class distribution:\n",
    "        data_train = demographics[demographics[\"icustay_id\"].isin(client[\"ids_train\"])]\n",
    "        \n",
    "        pos = np.sum(data_train.label_death_icu == 1)\n",
    "        neg = np.sum(data_train.label_death_icu == 0)\n",
    "        tot = data_train.shape[0]\n",
    "        \n",
    "        print(f'  Training:   {pos:>5,d} deaths ({pos/tot*100:>5,.1f}%) / {neg:>5d} discharges ({neg/tot*100:>5.1f}%)', end='')\n",
    "        print(f'{\"labels: \" + str(sorted(data_train.label_death_icu.unique())):>37}')\n",
    "        \n",
    "        # print validation data class distribution:\n",
    "        data_valid = demographics[demographics[\"icustay_id\"].isin(client[\"ids_valid\"]).values]\n",
    "        \n",
    "        pos = np.sum(data_valid.label_death_icu == 1)\n",
    "        neg = np.sum(data_valid.label_death_icu == 0)\n",
    "        tot = data_valid.shape[0]\n",
    "        \n",
    "        print(f'  Validation: {pos:>5,d} deaths ({pos/tot*100:>5,.1f}%) / {neg:>5d} discharges ({neg/tot*100:>5.1f}%)', end='')\n",
    "        print(f'{\"labels: \" + str(sorted(data_valid.label_death_icu.unique())):>37}')\n",
    "\n",
    "    print('\\n----------------------------------------------------------------------------------------------------')\n",
    "    "
   ]
  },
  {
   "cell_type": "markdown",
   "metadata": {},
   "source": [
    "## Fold 1"
   ]
  },
  {
   "cell_type": "code",
   "execution_count": 14,
   "metadata": {},
   "outputs": [
    {
     "name": "stdout",
     "output_type": "stream",
     "text": [
      "\n",
      "----------------------------------------------------------------------------------------------------\n",
      "Fold 1\n",
      "----------------------------------------------------------------------------------------------------\n",
      "\n",
      "Test:           111 deaths (  5.4%) / 1,935 discharges ( 94.6%)                       labels: [0, 1]\n",
      "\n",
      "Client 1\n",
      "  Training:      93 deaths (  5.4%) /  1645 discharges ( 94.6%)                       labels: [0, 1]\n",
      "  Validation:    17 deaths (  5.5%) /   290 discharges ( 94.5%)                       labels: [0, 1]\n",
      "\n",
      "Client 2\n",
      "  Training:      93 deaths (  5.4%) /  1645 discharges ( 94.6%)                       labels: [0, 1]\n",
      "  Validation:    17 deaths (  5.5%) /   290 discharges ( 94.5%)                       labels: [0, 1]\n",
      "\n",
      "Client 3\n",
      "  Training:      93 deaths (  5.4%) /  1645 discharges ( 94.6%)                       labels: [0, 1]\n",
      "  Validation:    17 deaths (  5.5%) /   290 discharges ( 94.5%)                       labels: [0, 1]\n",
      "\n",
      "Client 4\n",
      "  Training:      93 deaths (  5.4%) /  1645 discharges ( 94.6%)                       labels: [0, 1]\n",
      "  Validation:    17 deaths (  5.5%) /   290 discharges ( 94.5%)                       labels: [0, 1]\n",
      "\n",
      "----------------------------------------------------------------------------------------------------\n"
     ]
    }
   ],
   "source": [
    "describe_fold(splits_fl[4][\"folds\"][0])"
   ]
  },
  {
   "cell_type": "markdown",
   "metadata": {},
   "source": [
    "## Fold 2"
   ]
  },
  {
   "cell_type": "code",
   "execution_count": 15,
   "metadata": {},
   "outputs": [
    {
     "name": "stdout",
     "output_type": "stream",
     "text": [
      "\n",
      "----------------------------------------------------------------------------------------------------\n",
      "Fold 2\n",
      "----------------------------------------------------------------------------------------------------\n",
      "\n",
      "Test:           110 deaths (  5.4%) / 1,935 discharges ( 94.6%)                       labels: [0, 1]\n",
      "\n",
      "Client 1\n",
      "  Training:      94 deaths (  5.4%) /  1645 discharges ( 94.6%)                       labels: [0, 1]\n",
      "  Validation:    17 deaths (  5.5%) /   290 discharges ( 94.5%)                       labels: [0, 1]\n",
      "\n",
      "Client 2\n",
      "  Training:      93 deaths (  5.4%) /  1645 discharges ( 94.6%)                       labels: [0, 1]\n",
      "  Validation:    17 deaths (  5.5%) /   290 discharges ( 94.5%)                       labels: [0, 1]\n",
      "\n",
      "Client 3\n",
      "  Training:      93 deaths (  5.4%) /  1645 discharges ( 94.6%)                       labels: [0, 1]\n",
      "  Validation:    17 deaths (  5.5%) /   290 discharges ( 94.5%)                       labels: [0, 1]\n",
      "\n",
      "Client 4\n",
      "  Training:      93 deaths (  5.4%) /  1645 discharges ( 94.6%)                       labels: [0, 1]\n",
      "  Validation:    17 deaths (  5.5%) /   290 discharges ( 94.5%)                       labels: [0, 1]\n",
      "\n",
      "----------------------------------------------------------------------------------------------------\n"
     ]
    }
   ],
   "source": [
    "describe_fold(splits_fl[4][\"folds\"][1])"
   ]
  },
  {
   "cell_type": "markdown",
   "metadata": {},
   "source": [
    "## Fold 3"
   ]
  },
  {
   "cell_type": "code",
   "execution_count": 16,
   "metadata": {},
   "outputs": [
    {
     "name": "stdout",
     "output_type": "stream",
     "text": [
      "\n",
      "----------------------------------------------------------------------------------------------------\n",
      "Fold 3\n",
      "----------------------------------------------------------------------------------------------------\n",
      "\n",
      "Test:           110 deaths (  5.4%) / 1,935 discharges ( 94.6%)                       labels: [0, 1]\n",
      "\n",
      "Client 1\n",
      "  Training:      94 deaths (  5.4%) /  1645 discharges ( 94.6%)                       labels: [0, 1]\n",
      "  Validation:    17 deaths (  5.5%) /   290 discharges ( 94.5%)                       labels: [0, 1]\n",
      "\n",
      "Client 2\n",
      "  Training:      93 deaths (  5.4%) /  1645 discharges ( 94.6%)                       labels: [0, 1]\n",
      "  Validation:    17 deaths (  5.5%) /   290 discharges ( 94.5%)                       labels: [0, 1]\n",
      "\n",
      "Client 3\n",
      "  Training:      93 deaths (  5.4%) /  1645 discharges ( 94.6%)                       labels: [0, 1]\n",
      "  Validation:    17 deaths (  5.5%) /   290 discharges ( 94.5%)                       labels: [0, 1]\n",
      "\n",
      "Client 4\n",
      "  Training:      93 deaths (  5.4%) /  1645 discharges ( 94.6%)                       labels: [0, 1]\n",
      "  Validation:    17 deaths (  5.5%) /   290 discharges ( 94.5%)                       labels: [0, 1]\n",
      "\n",
      "----------------------------------------------------------------------------------------------------\n"
     ]
    }
   ],
   "source": [
    "describe_fold(splits_fl[4][\"folds\"][2])"
   ]
  },
  {
   "cell_type": "markdown",
   "metadata": {},
   "source": [
    "## Fold 4"
   ]
  },
  {
   "cell_type": "code",
   "execution_count": 17,
   "metadata": {
    "scrolled": true
   },
   "outputs": [
    {
     "name": "stdout",
     "output_type": "stream",
     "text": [
      "\n",
      "----------------------------------------------------------------------------------------------------\n",
      "Fold 4\n",
      "----------------------------------------------------------------------------------------------------\n",
      "\n",
      "Test:           110 deaths (  5.4%) / 1,935 discharges ( 94.6%)                       labels: [0, 1]\n",
      "\n",
      "Client 1\n",
      "  Training:      94 deaths (  5.4%) /  1645 discharges ( 94.6%)                       labels: [0, 1]\n",
      "  Validation:    17 deaths (  5.5%) /   290 discharges ( 94.5%)                       labels: [0, 1]\n",
      "\n",
      "Client 2\n",
      "  Training:      93 deaths (  5.4%) /  1645 discharges ( 94.6%)                       labels: [0, 1]\n",
      "  Validation:    17 deaths (  5.5%) /   290 discharges ( 94.5%)                       labels: [0, 1]\n",
      "\n",
      "Client 3\n",
      "  Training:      93 deaths (  5.4%) /  1645 discharges ( 94.6%)                       labels: [0, 1]\n",
      "  Validation:    17 deaths (  5.5%) /   290 discharges ( 94.5%)                       labels: [0, 1]\n",
      "\n",
      "Client 4\n",
      "  Training:      93 deaths (  5.4%) /  1645 discharges ( 94.6%)                       labels: [0, 1]\n",
      "  Validation:    17 deaths (  5.5%) /   290 discharges ( 94.5%)                       labels: [0, 1]\n",
      "\n",
      "----------------------------------------------------------------------------------------------------\n"
     ]
    }
   ],
   "source": [
    "describe_fold(splits_fl[4][\"folds\"][3])"
   ]
  },
  {
   "cell_type": "markdown",
   "metadata": {},
   "source": [
    "## Fold 5"
   ]
  },
  {
   "cell_type": "code",
   "execution_count": 18,
   "metadata": {
    "scrolled": true
   },
   "outputs": [
    {
     "name": "stdout",
     "output_type": "stream",
     "text": [
      "\n",
      "----------------------------------------------------------------------------------------------------\n",
      "Fold 5\n",
      "----------------------------------------------------------------------------------------------------\n",
      "\n",
      "Test:           110 deaths (  5.4%) / 1,935 discharges ( 94.6%)                       labels: [0, 1]\n",
      "\n",
      "Client 1\n",
      "  Training:      94 deaths (  5.4%) /  1645 discharges ( 94.6%)                       labels: [0, 1]\n",
      "  Validation:    17 deaths (  5.5%) /   290 discharges ( 94.5%)                       labels: [0, 1]\n",
      "\n",
      "Client 2\n",
      "  Training:      93 deaths (  5.4%) /  1645 discharges ( 94.6%)                       labels: [0, 1]\n",
      "  Validation:    17 deaths (  5.5%) /   290 discharges ( 94.5%)                       labels: [0, 1]\n",
      "\n",
      "Client 3\n",
      "  Training:      93 deaths (  5.4%) /  1645 discharges ( 94.6%)                       labels: [0, 1]\n",
      "  Validation:    17 deaths (  5.5%) /   290 discharges ( 94.5%)                       labels: [0, 1]\n",
      "\n",
      "Client 4\n",
      "  Training:      93 deaths (  5.4%) /  1645 discharges ( 94.6%)                       labels: [0, 1]\n",
      "  Validation:    17 deaths (  5.5%) /   290 discharges ( 94.5%)                       labels: [0, 1]\n",
      "\n",
      "----------------------------------------------------------------------------------------------------\n"
     ]
    }
   ],
   "source": [
    "describe_fold(splits_fl[4][\"folds\"][4])"
   ]
  }
 ],
 "metadata": {
  "kernelspec": {
   "display_name": "Python 3.9.13 64-bit (microsoft store)",
   "language": "python",
   "name": "python3"
  },
  "language_info": {
   "codemirror_mode": {
    "name": "ipython",
    "version": 3
   },
   "file_extension": ".py",
   "mimetype": "text/x-python",
   "name": "python",
   "nbconvert_exporter": "python",
   "pygments_lexer": "ipython3",
   "version": "3.9.13"
  },
  "vscode": {
   "interpreter": {
    "hash": "09804e24ad6773f4299ff941abdb533da0618f58a933eb5ec00c0e9780539224"
   }
  }
 },
 "nbformat": 4,
 "nbformat_minor": 2
}

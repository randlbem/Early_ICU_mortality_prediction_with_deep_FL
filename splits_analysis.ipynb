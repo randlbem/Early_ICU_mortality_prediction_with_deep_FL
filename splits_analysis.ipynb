{
 "cells": [
  {
   "cell_type": "code",
   "execution_count": 1,
   "metadata": {},
   "outputs": [],
   "source": [
    "import pandas as pd\n",
    "import numpy as np\n",
    "import json"
   ]
  },
  {
   "cell_type": "markdown",
   "metadata": {},
   "source": [
    "# Load data"
   ]
  },
  {
   "cell_type": "code",
   "execution_count": 2,
   "metadata": {},
   "outputs": [
    {
     "name": "stdout",
     "output_type": "stream",
     "text": [
      "Minimum stay: 48h\n"
     ]
    }
   ],
   "source": [
    "# load splits for cml:\n",
    "splits_cml = None\n",
    "\n",
    "# parse file\n",
    "with open(\"splits_cml.json\") as file:\n",
    "    splits_cml = json.load(file)\n",
    "    \n",
    "# print miniumum icu stay of cohort:\n",
    "print(f'Minimum stay: {splits_cml[\"min_los_icu\"]:d}h')"
   ]
  },
  {
   "cell_type": "code",
   "execution_count": 3,
   "metadata": {},
   "outputs": [
    {
     "name": "stdout",
     "output_type": "stream",
     "text": [
      "Minimum stay 2 clients: 48h\n",
      "Minimum stay 4 clients: 48h\n"
     ]
    }
   ],
   "source": [
    "# load splits for lml:\n",
    "splits_lml = {}\n",
    "\n",
    "for n in [2, 4]:\n",
    "    # parse file\n",
    "    with open(f\"splits_lml{n:d}.json\") as file:\n",
    "        splits_lml[n] = json.load(file)\n",
    "    \n",
    "    # print miniumum icu stay of cohort:\n",
    "    print(f'Minimum stay {n:d} clients: {splits_lml[n][\"min_los_icu\"]:d}h')\n",
    "    \n",
    "    # check miniumum icu stay of cohort:\n",
    "    if splits_lml[n][\"min_los_icu\"] != splits_cml[\"min_los_icu\"]:\n",
    "        raise Exception(f'Minimum stay not matching cml!')"
   ]
  },
  {
   "cell_type": "code",
   "execution_count": 4,
   "metadata": {},
   "outputs": [
    {
     "name": "stdout",
     "output_type": "stream",
     "text": [
      "Minimum stay 2 clients: 48h\n",
      "Minimum stay 4 clients: 48h\n"
     ]
    }
   ],
   "source": [
    "# load splits for fl:\n",
    "splits_fl = {}\n",
    "\n",
    "for n in [2, 4]:\n",
    "    # parse file\n",
    "    with open(f\"splits_fl{n:d}.json\") as file:\n",
    "        splits_fl[n] = json.load(file)\n",
    "    \n",
    "    # print miniumum icu stay of cohort:\n",
    "    print(f'Minimum stay {n:d} clients: {splits_fl[n][\"min_los_icu\"]:d}h')\n",
    "    \n",
    "    # check miniumum icu stay of cohort:\n",
    "    if splits_fl[n][\"min_los_icu\"] != splits_cml[\"min_los_icu\"]:\n",
    "        raise Exception(f'Minimum stay not matching cml!')"
   ]
  },
  {
   "cell_type": "code",
   "execution_count": 5,
   "metadata": {},
   "outputs": [],
   "source": [
    "# load cohort:\n",
    "demographics = pd.read_pickle(f'demographics_min{splits_cml[\"min_los_icu\"]:d}h.pickle')"
   ]
  },
  {
   "cell_type": "markdown",
   "metadata": {},
   "source": [
    "# Check splits"
   ]
  },
  {
   "cell_type": "markdown",
   "metadata": {},
   "source": [
    "## Check test splits:"
   ]
  },
  {
   "cell_type": "code",
   "execution_count": 7,
   "metadata": {},
   "outputs": [
    {
     "name": "stdout",
     "output_type": "stream",
     "text": [
      "All checks passed! Test-sets are identical!\n"
     ]
    }
   ],
   "source": [
    "for n in [2, 4]:\n",
    "    for i in range(5):\n",
    "        if splits_cml[\"folds\"][i][\"ids_test\"] != splits_lml[n][\"folds\"][i][\"ids_test\"]:\n",
    "            raise Exception(f'Test-sets for lml ({n:d} clients) and cml do not match!')\n",
    "\n",
    "\n",
    "        if splits_cml[\"folds\"][i][\"ids_test\"] != splits_fl[n][\"folds\"][i][\"ids_test\"]:\n",
    "            raise Exception(f'Test-sets for fl ({n:d} clients) and cml do not match!')\n",
    "        \n",
    "print(\"All checks passed! Test-sets are identical!\")       "
   ]
  },
  {
   "cell_type": "markdown",
   "metadata": {},
   "source": [
    "## Check validation splits:"
   ]
  },
  {
   "cell_type": "code",
   "execution_count": 8,
   "metadata": {},
   "outputs": [
    {
     "name": "stdout",
     "output_type": "stream",
     "text": [
      "All checks passed! Validation-sets are identical!\n"
     ]
    }
   ],
   "source": [
    "for n in [2, 4]:\n",
    "    for i in range(5):\n",
    "        for j in range(n):\n",
    "            if splits_lml[n][\"folds\"][i][\"clients\"][j][\"ids_valid\"] != splits_fl[n][\"folds\"][i][\"clients\"][j][\"ids_valid\"]:\n",
    "                raise Exception(f'Validation-sets for lml and fl do not match ({n:d} clients)!')\n",
    "        \n",
    "print(\"All checks passed! Validation-sets are identical!\")       "
   ]
  },
  {
   "cell_type": "markdown",
   "metadata": {},
   "source": [
    "## Check training splits:"
   ]
  },
  {
   "cell_type": "code",
   "execution_count": 9,
   "metadata": {},
   "outputs": [
    {
     "name": "stdout",
     "output_type": "stream",
     "text": [
      "All checks passed! Training-sets are identical!\n"
     ]
    }
   ],
   "source": [
    "for n in [2, 4]:\n",
    "    for i in range(5):\n",
    "        for j in range(n):\n",
    "            if splits_lml[n][\"folds\"][i][\"clients\"][j][\"ids_train\"] != splits_fl[n][\"folds\"][i][\"clients\"][j][\"ids_train\"]:\n",
    "                raise Exception(f'Training-sets for lml and fl do not match ({n:d} clients)!')\n",
    "        \n",
    "print(\"All checks passed! Training-sets are identical!\")       "
   ]
  },
  {
   "cell_type": "markdown",
   "metadata": {},
   "source": [
    "# Print class distribution"
   ]
  },
  {
   "cell_type": "code",
   "execution_count": 10,
   "metadata": {},
   "outputs": [],
   "source": [
    "def describe_fold(fold):\n",
    "    # print header:\n",
    "    print('\\n----------------------------------------------------------------------------------------------------')\n",
    "    print(f'Fold {fold[\"fold\"]:d}')\n",
    "    print('----------------------------------------------------------------------------------------------------\\n')\n",
    "\n",
    "    # print test data class distribution:\n",
    "    data_test = demographics.where(demographics[\"subject_id\"].isin(fold[\"ids_test\"]))\n",
    "\n",
    "    pos = np.sum(data_test.label_death_icu == 1)\n",
    "    neg = np.sum(data_test.label_death_icu == 0)\n",
    "    tot = pos + neg\n",
    "    \n",
    "    print(f'Test:         {pos:>5,d} deaths ({pos/tot*100:>5,.1f}%) / {neg:>5,d} discharges ({neg/tot*100:>5,.1f}%)')\n",
    "    \n",
    "    for client in fold[\"clients\"]:\n",
    "         # print header:\n",
    "        print(f'\\nClient {client[\"client\"]:d}')\n",
    "        \n",
    "        # print training data class distribution:\n",
    "        data_train = demographics.where(demographics[\"subject_id\"].isin(client[\"ids_train\"]))\n",
    "        \n",
    "        pos = np.sum(data_train.label_death_icu == 1)\n",
    "        neg = np.sum(data_train.label_death_icu == 0)\n",
    "        tot = pos + neg\n",
    "        \n",
    "        print(f'  Training:   {pos:>5,d} deaths ({pos/tot*100:>5,.1f}%) / {neg:>5,d} discharges ({neg/tot*100:>5,.1f}%)')\n",
    "        \n",
    "        # print validation data class distribution:\n",
    "        data_valid = demographics.where(demographics[\"subject_id\"].isin(client[\"ids_valid\"]))\n",
    "        \n",
    "        pos = np.sum(data_valid.label_death_icu == 1)\n",
    "        neg = np.sum(data_valid.label_death_icu == 0)\n",
    "        tot = pos + neg\n",
    "        \n",
    "        print(f'  Validation: {pos:>5,d} deaths ({pos/tot*100:>5,.1f}%) / {neg:>5,d} discharges ({neg/tot*100:>5,.1f}%)')\n",
    "\n",
    "    print('\\n----------------------------------------------------------------------------------------------------')\n",
    "    "
   ]
  },
  {
   "cell_type": "markdown",
   "metadata": {},
   "source": [
    "## Fold 1"
   ]
  },
  {
   "cell_type": "code",
   "execution_count": 12,
   "metadata": {},
   "outputs": [
    {
     "name": "stdout",
     "output_type": "stream",
     "text": [
      "\n",
      "----------------------------------------------------------------------------------------------------\n",
      "Fold 1\n",
      "----------------------------------------------------------------------------------------------------\n",
      "\n",
      "Test:            81 deaths ( 10.3%) /   705 discharges ( 89.7%)\n",
      "\n",
      "Client 1\n",
      "  Training:      65 deaths (  9.1%) /   648 discharges ( 90.9%)\n",
      "  Validation:    13 deaths ( 11.6%) /    99 discharges ( 88.4%)\n",
      "\n",
      "Client 2\n",
      "  Training:      61 deaths (  9.1%) /   608 discharges ( 90.9%)\n",
      "  Validation:    11 deaths (  8.5%) /   118 discharges ( 91.5%)\n",
      "\n",
      "Client 3\n",
      "  Training:      60 deaths (  9.1%) /   599 discharges ( 90.9%)\n",
      "  Validation:     6 deaths (  5.1%) /   112 discharges ( 94.9%)\n",
      "\n",
      "Client 4\n",
      "  Training:      63 deaths (  9.5%) /   597 discharges ( 90.5%)\n",
      "  Validation:    20 deaths ( 15.9%) /   106 discharges ( 84.1%)\n",
      "\n",
      "----------------------------------------------------------------------------------------------------\n"
     ]
    }
   ],
   "source": [
    "describe_fold(splits_fl[4][\"folds\"][0])"
   ]
  },
  {
   "cell_type": "markdown",
   "metadata": {},
   "source": [
    "## Fold 2"
   ]
  },
  {
   "cell_type": "code",
   "execution_count": 13,
   "metadata": {},
   "outputs": [
    {
     "name": "stdout",
     "output_type": "stream",
     "text": [
      "\n",
      "----------------------------------------------------------------------------------------------------\n",
      "Fold 2\n",
      "----------------------------------------------------------------------------------------------------\n",
      "\n",
      "Test:            93 deaths ( 11.6%) /   709 discharges ( 88.4%)\n",
      "\n",
      "Client 1\n",
      "  Training:      64 deaths (  9.7%) /   596 discharges ( 90.3%)\n",
      "  Validation:     8 deaths (  6.0%) /   126 discharges ( 94.0%)\n",
      "\n",
      "Client 2\n",
      "  Training:      62 deaths (  8.9%) /   631 discharges ( 91.1%)\n",
      "  Validation:    13 deaths ( 11.5%) /   100 discharges ( 88.5%)\n",
      "\n",
      "Client 3\n",
      "  Training:      55 deaths (  8.7%) /   577 discharges ( 91.3%)\n",
      "  Validation:     5 deaths (  4.3%) /   111 discharges ( 95.7%)\n",
      "\n",
      "Client 4\n",
      "  Training:      70 deaths ( 10.0%) /   632 discharges ( 90.0%)\n",
      "  Validation:    10 deaths (  8.3%) /   110 discharges ( 91.7%)\n",
      "\n",
      "----------------------------------------------------------------------------------------------------\n"
     ]
    }
   ],
   "source": [
    "describe_fold(splits_fl[4][\"folds\"][1])"
   ]
  },
  {
   "cell_type": "markdown",
   "metadata": {},
   "source": [
    "## Fold 3"
   ]
  },
  {
   "cell_type": "code",
   "execution_count": 14,
   "metadata": {},
   "outputs": [
    {
     "name": "stdout",
     "output_type": "stream",
     "text": [
      "\n",
      "----------------------------------------------------------------------------------------------------\n",
      "Fold 3\n",
      "----------------------------------------------------------------------------------------------------\n",
      "\n",
      "Test:            62 deaths (  7.7%) /   739 discharges ( 92.3%)\n",
      "\n",
      "Client 1\n",
      "  Training:      70 deaths ( 10.5%) /   594 discharges ( 89.5%)\n",
      "  Validation:     8 deaths (  6.3%) /   118 discharges ( 93.7%)\n",
      "\n",
      "Client 2\n",
      "  Training:      58 deaths (  8.3%) /   639 discharges ( 91.7%)\n",
      "  Validation:     7 deaths (  6.3%) /   104 discharges ( 93.7%)\n",
      "\n",
      "Client 3\n",
      "  Training:      77 deaths ( 11.8%) /   578 discharges ( 88.2%)\n",
      "  Validation:    19 deaths ( 15.4%) /   104 discharges ( 84.6%)\n",
      "\n",
      "Client 4\n",
      "  Training:      67 deaths (  9.9%) /   608 discharges ( 90.1%)\n",
      "  Validation:    12 deaths ( 10.0%) /   108 discharges ( 90.0%)\n",
      "\n",
      "----------------------------------------------------------------------------------------------------\n"
     ]
    }
   ],
   "source": [
    "describe_fold(splits_fl[4][\"folds\"][2])"
   ]
  },
  {
   "cell_type": "markdown",
   "metadata": {},
   "source": [
    "## Fold 4"
   ]
  },
  {
   "cell_type": "code",
   "execution_count": 15,
   "metadata": {
    "scrolled": true
   },
   "outputs": [
    {
     "name": "stdout",
     "output_type": "stream",
     "text": [
      "\n",
      "----------------------------------------------------------------------------------------------------\n",
      "Fold 4\n",
      "----------------------------------------------------------------------------------------------------\n",
      "\n",
      "Test:            77 deaths (  9.5%) /   735 discharges ( 90.5%)\n",
      "\n",
      "Client 1\n",
      "  Training:      65 deaths (  9.7%) /   606 discharges ( 90.3%)\n",
      "  Validation:    17 deaths ( 13.9%) /   105 discharges ( 86.1%)\n",
      "\n",
      "Client 2\n",
      "  Training:      56 deaths (  8.6%) /   596 discharges ( 91.4%)\n",
      "  Validation:    18 deaths ( 14.2%) /   109 discharges ( 85.8%)\n",
      "\n",
      "Client 3\n",
      "  Training:      67 deaths (  9.7%) /   621 discharges ( 90.3%)\n",
      "  Validation:    10 deaths (  8.3%) /   110 discharges ( 91.7%)\n",
      "\n",
      "Client 4\n",
      "  Training:      60 deaths (  9.1%) /   600 discharges ( 90.9%)\n",
      "  Validation:    10 deaths (  8.3%) /   110 discharges ( 91.7%)\n",
      "\n",
      "----------------------------------------------------------------------------------------------------\n"
     ]
    }
   ],
   "source": [
    "describe_fold(splits_fl[4][\"folds\"][3])"
   ]
  },
  {
   "cell_type": "markdown",
   "metadata": {},
   "source": [
    "## Fold 5"
   ]
  },
  {
   "cell_type": "code",
   "execution_count": 16,
   "metadata": {
    "scrolled": true
   },
   "outputs": [
    {
     "name": "stdout",
     "output_type": "stream",
     "text": [
      "\n",
      "----------------------------------------------------------------------------------------------------\n",
      "Fold 5\n",
      "----------------------------------------------------------------------------------------------------\n",
      "\n",
      "Test:            67 deaths (  8.7%) /   704 discharges ( 91.3%)\n",
      "\n",
      "Client 1\n",
      "  Training:      74 deaths ( 10.9%) /   605 discharges ( 89.1%)\n",
      "  Validation:    19 deaths ( 15.6%) /   103 discharges ( 84.4%)\n",
      "\n",
      "Client 2\n",
      "  Training:      57 deaths (  8.7%) /   596 discharges ( 91.3%)\n",
      "  Validation:    13 deaths (  9.4%) /   125 discharges ( 90.6%)\n",
      "\n",
      "Client 3\n",
      "  Training:      58 deaths (  8.5%) /   621 discharges ( 91.5%)\n",
      "  Validation:     9 deaths (  7.1%) /   118 discharges ( 92.9%)\n",
      "\n",
      "Client 4\n",
      "  Training:      73 deaths ( 10.6%) /   615 discharges ( 89.4%)\n",
      "  Validation:    10 deaths (  8.7%) /   105 discharges ( 91.3%)\n",
      "\n",
      "----------------------------------------------------------------------------------------------------\n"
     ]
    }
   ],
   "source": [
    "describe_fold(splits_fl[4][\"folds\"][4])"
   ]
  }
 ],
 "metadata": {
  "kernelspec": {
   "display_name": "Python 3",
   "language": "python",
   "name": "python3"
  },
  "language_info": {
   "codemirror_mode": {
    "name": "ipython",
    "version": 3
   },
   "file_extension": ".py",
   "mimetype": "text/x-python",
   "name": "python",
   "nbconvert_exporter": "python",
   "pygments_lexer": "ipython3",
   "version": "3.8.10"
  },
  "vscode": {
   "interpreter": {
    "hash": "8e284ee3255a07ad8bf76694974743c4c81cb57e7c969474d752d949b11d721e"
   }
  }
 },
 "nbformat": 4,
 "nbformat_minor": 2
}

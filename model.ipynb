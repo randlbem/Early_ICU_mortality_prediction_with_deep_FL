{
 "cells": [
  {
   "cell_type": "code",
   "execution_count": null,
   "metadata": {},
   "outputs": [],
   "source": [
    "import psycopg2\n",
    "import matplotlib.pyplot as plt\n",
    "import pandas as pd\n",
    "import numpy as np\n",
    "import sklearn\n",
    "import tensorflow as tf\n",
    "import helpers as hp\n",
    "import metrics as m"
   ]
  },
  {
   "cell_type": "code",
   "execution_count": null,
   "metadata": {},
   "outputs": [],
   "source": [
    "RANDOM_STATE = 42\n",
    "WINDOW_LENGTH = 48\n",
    "MIN_LOS_ICU = 48\n",
    "CLIENT_COUNT = 4\n",
    "USE_FL = True\n",
    "VITAL_NAMES = ['heartrate', 'sysbp', 'diasbp', 'meanbp', 'resprate', 'tempc', 'spo2']\n",
    "LAB_NAMES = ['albumin', 'bun', 'bilirubin', 'lactate', 'bicarbonate', 'bands', 'chloride', 'creatinine', 'glucose', 'hemoglobin', 'hematocrit', 'platelet', 'potassium', 'ptt', 'sodium', 'wbc']\n",
    "FOLDER_SUFFIX = ''"
   ]
  },
  {
   "cell_type": "markdown",
   "metadata": {},
   "source": [
    "# Load data"
   ]
  },
  {
   "cell_type": "markdown",
   "metadata": {},
   "source": [
    "## From SQL:"
   ]
  },
  {
   "cell_type": "code",
   "execution_count": null,
   "metadata": {},
   "outputs": [],
   "source": [
    "# Connect to db\n",
    "conn = psycopg2.connect(host='localhost', port=5433, dbname='mimic', user='postgres', password='postgres')\n",
    "cur = conn.cursor() \n",
    "\n",
    "# Read vital signs\n",
    "vitals = pd.read_sql_query(f'SELECT * FROM mimiciii.vital_windowed_{WINDOW_LENGTH:d}h(min{MIN_LOS_ICU:d}h);', conn)\n",
    "\n",
    "# Read in labs values\n",
    "labs = pd.read_sql_query(f'SELECT * FROM mimiciii.labs_windowed_{WINDOW_LENGTH:d}h(min{MIN_LOS_ICU:d}h);', conn)\n",
    "\n",
    "# Close the cursor and connection to so the server can allocate bandwidth to other requests\n",
    "cur.close()\n",
    "conn.close()"
   ]
  },
  {
   "cell_type": "markdown",
   "metadata": {},
   "source": [
    "## From File:"
   ]
  },
  {
   "cell_type": "code",
   "execution_count": null,
   "metadata": {},
   "outputs": [],
   "source": [
    "data_path = f'data/min{MIN_LOS_ICU:d}h/'\n",
    "\n",
    "vitals = pd.read_pickle(data_path + f'vitals_windowed_{WINDOW_LENGTH:d}h(min{MIN_LOS_ICU:d}h).pickle')\n",
    "labs = pd.read_pickle(data_path + f'labs_windowed_{WINDOW_LENGTH:d}h(min{MIN_LOS_ICU:d}h).pickle')"
   ]
  },
  {
   "cell_type": "markdown",
   "metadata": {},
   "source": [
    "# Data Processing\n",
    "Create interface specifications: "
   ]
  },
  {
   "cell_type": "code",
   "execution_count": null,
   "metadata": {},
   "outputs": [],
   "source": [
    "vitals_spec = tf.TensorSpec(\n",
    "    shape=(None, len(VITAL_NAMES)),\n",
    "    dtype=tf.dtypes.float64,\n",
    "    name='vitals'\n",
    ")\n",
    "labs_spec = tf.TensorSpec(\n",
    "    shape=(None, len(LAB_NAMES)),\n",
    "    dtype=tf.dtypes.float64,\n",
    "    name='labs'\n",
    ")\n",
    "label_spec = tf.TensorSpec(\n",
    "    shape=1,\n",
    "    dtype=tf.dtypes.float64,\n",
    "    name='label'\n",
    ")"
   ]
  },
  {
   "cell_type": "markdown",
   "metadata": {},
   "source": [
    "## Build Model "
   ]
  },
  {
   "cell_type": "markdown",
   "metadata": {},
   "source": [
    "Build RNN-Model:"
   ]
  },
  {
   "cell_type": "code",
   "execution_count": null,
   "metadata": {},
   "outputs": [],
   "source": [
    "# Vital channel\n",
    "inputs_vitals = tf.keras.Input(shape=vitals_spec.shape, name='Input_vitals') \n",
    "mask_vitals = tf.keras.layers.Masking(mask_value=-2., name='mask_vitals')(inputs_vitals)\n",
    "GRU_layer1_vitals = tf.keras.layers.GRU(16, return_sequences=True, name='GRU_layer1_vitals')(mask_vitals)\n",
    "GRU_layer2_vitals = tf.keras.layers.GRU(16, return_sequences=True, name='GRU_layer2_vitals')(GRU_layer1_vitals)\n",
    "GRU_layer3_vitals = tf.keras.layers.GRU(16, return_sequences=False, name='GRU_layer3_vitals')(GRU_layer2_vitals)\n",
    "normalized_vitals= tf.keras.layers.BatchNormalization(name='BatchNorm_vitals')(GRU_layer3_vitals)\n",
    "\n",
    "#Labs channel\n",
    "inputs_labs = tf.keras.Input(shape=labs_spec.shape, name='Input_labs')\n",
    "mask_labs = tf.keras.layers.Masking(mask_value=-2., name='mask_labs')(inputs_labs)\n",
    "GRU_layer1_labs = tf.keras.layers.GRU(16, return_sequences=True, name='GRU_layer1_labs')(mask_labs)\n",
    "GRU_layer2_labs = tf.keras.layers.GRU(16, return_sequences=True, name='GRU_layer2_labs')(GRU_layer1_labs)\n",
    "GRU_layer3_labs = tf.keras.layers.GRU(16, return_sequences=False, name='GRU_layer3_labs')(GRU_layer2_labs)\n",
    "normalized_labs= tf.keras.layers.BatchNormalization(name='BatchNorm_labs')(GRU_layer3_labs)\n",
    "\n",
    "#Concatanation of both branches\n",
    "merge= tf.keras.layers.Concatenate()([normalized_vitals, normalized_labs])\n",
    "\n",
    "FCL1 = tf.keras.layers.Dense(16, name='FCL1')(merge)  #which unites for the dense layer?\n",
    "FCL2 = tf.keras.layers.Dense(16, name='FCL2')(FCL1)\n",
    "outputs = tf.keras.layers.Dense(1, activation='sigmoid',name='output')(FCL2)\n",
    "\n",
    "model = tf.keras.Model(inputs=[inputs_vitals,inputs_labs], outputs=outputs, name='RNN_model')\n",
    "model.summary()"
   ]
  },
  {
   "cell_type": "code",
   "execution_count": null,
   "metadata": {},
   "outputs": [],
   "source": [
    "tf.keras.utils.plot_model(model, \"./pictures/model.png\", show_shapes=True)"
   ]
  },
  {
   "cell_type": "markdown",
   "metadata": {},
   "source": [
    "## Build Pipeline:"
   ]
  },
  {
   "cell_type": "code",
   "execution_count": null,
   "metadata": {},
   "outputs": [],
   "source": [
    "# Extract vitals:\n",
    "vitals.sort_values(['icustay_id', 'charttime'])\n",
    "vital_data = vitals[['icustay_id'] + VITAL_NAMES].groupby(['icustay_id'])\n",
    "\n",
    "# Extract labs:\n",
    "labs.sort_values(['icustay_id', 'charttime'])\n",
    "lab_data = labs[['icustay_id'] + LAB_NAMES].groupby(['icustay_id'])\n",
    "\n",
    "# Extract ICU-stays and labels:\n",
    "icustays = vitals[['icustay_id', 'label_death_icu']].groupby(['icustay_id']).first().reset_index().to_numpy()\n",
    "icustays"
   ]
  },
  {
   "cell_type": "markdown",
   "metadata": {},
   "source": [
    "## Evaluate Model:"
   ]
  },
  {
   "cell_type": "code",
   "execution_count": null,
   "metadata": {},
   "outputs": [],
   "source": [
    "# Loss Function\n",
    "loss_fcn = 'binary_crossentropy'\n",
    "\n",
    "# Metrics\n",
    "metrics=[\n",
    "    tf.keras.metrics.AUC(curve='ROC', name='AUROC'),\n",
    "    tf.keras.metrics.AUC(curve='PR', name='AUPRC'),\n",
    "    m.ContinuousF1(name='F1'),\n",
    "    tf.keras.metrics.Recall(name='recall'),\n",
    "    tf.keras.metrics.Precision(name='precision'),\n",
    "    tf.keras.losses.MeanAbsoluteError(name='MAE'),\n",
    "    tf.keras.losses.MeanSquaredError(name='MSE')\n",
    "]"
   ]
  },
  {
   "cell_type": "code",
   "execution_count": null,
   "metadata": {},
   "outputs": [],
   "source": [
    "trainer = hp.Trainer(\n",
    "    vital_data, lab_data,\n",
    "    loss_fcn, metrics,\n",
    "    output_signature=((vitals_spec, labs_spec), label_spec),\n",
    "#    es_metric='F1',\n",
    "#    es_mode='max',\n",
    "#    es_delta=0.,\n",
    "    min_los_icu=MIN_LOS_ICU,\n",
    "    random_state=RANDOM_STATE,\n",
    "    threaded=False,\n",
    "    max_threads=2\n",
    ")"
   ]
  },
  {
   "cell_type": "code",
   "execution_count": null,
   "metadata": {},
   "outputs": [],
   "source": [
    "if USE_FL:\n",
    "    trainer.evaluateFL(\n",
    "        model,\n",
    "        icustays,\n",
    "        n_rounds=50,\n",
    "        n_clients=CLIENT_COUNT,\n",
    "        n_labels=2,\n",
    "        patience=20,\n",
    "        weighted=True,\n",
    "        shuffle=True,\n",
    "        stratify_clients=True\n",
    "    ) \n",
    "    \n",
    "else:\n",
    "    trainer.evaluate(\n",
    "        model,\n",
    "        icustays,\n",
    "        n_epochs=50,\n",
    "        n_clients=CLIENT_COUNT,\n",
    "        n_labels=2,\n",
    "        patience=20,\n",
    "        weighted=True,\n",
    "        shuffle=True,\n",
    "        stratify_clients=True\n",
    "    )"
   ]
  },
  {
   "cell_type": "markdown",
   "metadata": {},
   "source": [
    "## Statistics"
   ]
  },
  {
   "cell_type": "code",
   "execution_count": null,
   "metadata": {},
   "outputs": [],
   "source": [
    "print('Average test AUROC:', trainer.test_scores['AUROC'].mean())\n",
    "print('Average test AUPRC:', trainer.test_scores['AUPRC'].mean())\n",
    "\n",
    "recall_sc = trainer.test_scores['recall'].mean()\n",
    "precision_sc = trainer.test_scores['precision'].mean()\n",
    "\n",
    "f1_sc = 2 * precision_sc * recall_sc / (precision_sc + recall_sc )\n",
    "print('Average test F1:', f1_sc)\n",
    "\n",
    "print('Average test MAE:', trainer.test_scores['MAE'].mean())\n",
    "print('Average test MSE:', trainer.test_scores['MSE'].mean())"
   ]
  },
  {
   "cell_type": "code",
   "execution_count": null,
   "metadata": {},
   "outputs": [],
   "source": [
    "trainer.plot_history('loss', plt.subplot(2, 1, 1))\n",
    "\n",
    "trainer.plot_history('precision', plt.subplot(2, 2, 3), x_step=4)\n",
    "trainer.plot_history('recall', plt.subplot(2, 2, 4), x_step=4)\n",
    "\n",
    "plt.tight_layout()\n",
    "plt.show()"
   ]
  },
  {
   "cell_type": "code",
   "execution_count": null,
   "metadata": {},
   "outputs": [],
   "source": [
    "trainer.plot_history('AUROC', plt.subplot(2, 1, 1))\n",
    "trainer.plot_history('AUPRC', plt.subplot(2, 1, 2))\n",
    "\n",
    "plt.tight_layout()\n",
    "plt.show()"
   ]
  },
  {
   "cell_type": "code",
   "execution_count": null,
   "metadata": {},
   "outputs": [],
   "source": [
    "trainer.plot_history('MAE', plt.subplot(2, 1, 1))\n",
    "trainer.plot_history('MSE', plt.subplot(2, 1, 2))\n",
    "\n",
    "plt.tight_layout()\n",
    "plt.show()"
   ]
  },
  {
   "cell_type": "markdown",
   "metadata": {},
   "source": [
    "# Save results"
   ]
  },
  {
   "cell_type": "code",
   "execution_count": null,
   "metadata": {
    "scrolled": false
   },
   "outputs": [],
   "source": [
    "trainer.save(\n",
    "    f'./scores/min{MIN_LOS_ICU:d}h/{WINDOW_LENGTH:d}h{FOLDER_SUFFIX:s}/'+\n",
    "    ('scores_fl_' if USE_FL else 'scores_')+\n",
    "    f'{CLIENT_COUNT:d}clients_{WINDOW_LENGTH:d}h(min{MIN_LOS_ICU:d}h).pickle'\n",
    ")"
   ]
  }
 ],
 "metadata": {
  "kernelspec": {
   "display_name": "Python 3",
   "language": "python",
   "name": "python3"
  },
  "language_info": {
   "codemirror_mode": {
    "name": "ipython",
    "version": 3
   },
   "file_extension": ".py",
   "mimetype": "text/x-python",
   "name": "python",
   "nbconvert_exporter": "python",
   "pygments_lexer": "ipython3",
   "version": "3.8.10"
  },
  "vscode": {
   "interpreter": {
    "hash": "09804e24ad6773f4299ff941abdb533da0618f58a933eb5ec00c0e9780539224"
   }
  }
 },
 "nbformat": 4,
 "nbformat_minor": 2
}

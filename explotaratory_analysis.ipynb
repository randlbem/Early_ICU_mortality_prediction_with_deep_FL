{
 "cells": [
  {
   "cell_type": "code",
   "execution_count": null,
   "metadata": {},
   "outputs": [],
   "source": [
    "import psycopg2\n",
    "from datetime import timedelta\n",
    "import pandas as pd\n",
    "import matplotlib.pyplot as plt \n",
    "import numpy as np\n",
    "import matplotlib\n",
    "\n",
    "latex = False\n",
    "\n",
    "if latex:\n",
    "    matplotlib.use(\"pgf\")\n",
    "    matplotlib.rcParams.update({\n",
    "        \"pgf.texsystem\": \"pdflatex\",\n",
    "        'font.family': 'serif',\n",
    "        'text.usetex': True,\n",
    "        'pgf.rcfonts': False,\n",
    "    })"
   ]
  },
  {
   "cell_type": "code",
   "execution_count": null,
   "metadata": {},
   "outputs": [],
   "source": [
    "MIN_LOS_ICU = 24"
   ]
  },
  {
   "cell_type": "markdown",
   "metadata": {},
   "source": [
    "# Load Data"
   ]
  },
  {
   "cell_type": "markdown",
   "metadata": {},
   "source": [
    "### From SQL"
   ]
  },
  {
   "cell_type": "code",
   "execution_count": null,
   "metadata": {},
   "outputs": [],
   "source": [
    "# Connect to db\n",
    "conn = psycopg2.connect(host='localhost', port=5433, dbname='mimic', user='postgres', password='postgres')\n",
    "cur = conn.cursor() \n",
    "\n",
    "# Read vital signs\n",
    "vitals = pd.read_sql_query(f'SELECT * FROM mimiciii.vital_resampled_min{MIN_LOS_ICU:d}h;', conn)\n",
    "\n",
    "# Read in labs values\n",
    "labs = pd.read_sql_query(f'SELECT * FROM mimiciii.lab_resampled_min{MIN_LOS_ICU:d}h;', conn)\n",
    "\n",
    "# Read demographics\n",
    "demographics = pd.read_sql_query(f'SELECT * FROM mimiciii.demographics_min{MIN_LOS_ICU:d}h;', conn)\n",
    "\n",
    "# Close the cursor and connection to so the server can allocate bandwidth to other requests\n",
    "cur.close()\n",
    "conn.close()"
   ]
  },
  {
   "cell_type": "markdown",
   "metadata": {},
   "source": [
    "### From File"
   ]
  },
  {
   "cell_type": "code",
   "execution_count": null,
   "metadata": {},
   "outputs": [],
   "source": [
    "data_path = f'data/min{MIN_LOS_ICU:d}h/'\n",
    "\n",
    "demographics = pd.read_pickle(data_path + f'demographics_min{MIN_LOS_ICU:d}h.pickle')\n",
    "vitals = pd.read_pickle(data_path + f'vitals_min{MIN_LOS_ICU:d}h.pickle')\n",
    "labs = pd.read_pickle(data_path + f'labs_min{MIN_LOS_ICU:d}h.pickle')"
   ]
  },
  {
   "cell_type": "markdown",
   "metadata": {},
   "source": [
    "# Preprocess data:"
   ]
  },
  {
   "cell_type": "code",
   "execution_count": null,
   "metadata": {},
   "outputs": [],
   "source": [
    "demographics['los_icu_hours'] =     demographics['los_icu'] * 24\n",
    "\n",
    "demographics['los_icu_bin'] =       pd.cut(demographics['los_icu_hours'],\n",
    "                                        bins=[8, 15, 23, 31, 39, 47, 55, 63, 71, max(demographics['los_icu_hours'])],\n",
    "                                        labels=['8-15', '16-23', '24-31', '32-39', '40-47', '48-55', '56-63', '64-71', '>72']\n",
    "                                    ).astype(str)\n",
    "\n",
    "demographics['admission_age_bin'] = pd.cut(demographics['admission_age'],\n",
    "                                        bins=[0, 29, 59, 89, max(demographics['admission_age'])],\n",
    "                                        labels=['0-29', '30-59', '60-89', '>90']\n",
    "                                    ).astype(str)"
   ]
  },
  {
   "cell_type": "markdown",
   "metadata": {},
   "source": [
    "# Analysis"
   ]
  },
  {
   "cell_type": "markdown",
   "metadata": {},
   "source": [
    "## Basic data description and overview"
   ]
  },
  {
   "cell_type": "markdown",
   "metadata": {},
   "source": [
    "Describe vitals"
   ]
  },
  {
   "cell_type": "code",
   "execution_count": null,
   "metadata": {},
   "outputs": [],
   "source": [
    "vitals.head(5)"
   ]
  },
  {
   "cell_type": "code",
   "execution_count": null,
   "metadata": {},
   "outputs": [],
   "source": [
    "vitals.describe()"
   ]
  },
  {
   "cell_type": "markdown",
   "metadata": {},
   "source": [
    "Describe labs"
   ]
  },
  {
   "cell_type": "code",
   "execution_count": null,
   "metadata": {},
   "outputs": [],
   "source": [
    "labs.head(5)"
   ]
  },
  {
   "cell_type": "code",
   "execution_count": null,
   "metadata": {},
   "outputs": [],
   "source": [
    "labs.describe()"
   ]
  },
  {
   "cell_type": "markdown",
   "metadata": {},
   "source": [
    "Describe demographics"
   ]
  },
  {
   "cell_type": "code",
   "execution_count": null,
   "metadata": {},
   "outputs": [],
   "source": [
    "demographics[['icustay_id','intime','outtime','label_death_icu']].head(5)"
   ]
  },
  {
   "cell_type": "code",
   "execution_count": null,
   "metadata": {},
   "outputs": [],
   "source": [
    "demographics.describe()"
   ]
  },
  {
   "cell_type": "markdown",
   "metadata": {},
   "source": [
    "Check if there is empty data"
   ]
  },
  {
   "cell_type": "code",
   "execution_count": null,
   "metadata": {},
   "outputs": [],
   "source": [
    "demographics.isnull().sum()"
   ]
  },
  {
   "cell_type": "code",
   "execution_count": null,
   "metadata": {},
   "outputs": [],
   "source": [
    "labs.isnull().sum().sum()"
   ]
  },
  {
   "cell_type": "code",
   "execution_count": null,
   "metadata": {},
   "outputs": [],
   "source": [
    "vitals.isnull().sum().sum()"
   ]
  },
  {
   "cell_type": "markdown",
   "metadata": {},
   "source": [
    "## Check timings of measurements:"
   ]
  },
  {
   "cell_type": "code",
   "execution_count": null,
   "metadata": {},
   "outputs": [],
   "source": [
    "timings = demographics[['icustay_id', 'intime', 'outtime']].copy()\n",
    "timings = timings.sort_values('icustay_id').set_index('icustay_id')"
   ]
  },
  {
   "cell_type": "markdown",
   "metadata": {},
   "source": [
    "Check labs"
   ]
  },
  {
   "cell_type": "code",
   "execution_count": null,
   "metadata": {},
   "outputs": [],
   "source": [
    "labs_grouped = labs[['icustay_id', 'charttime']].copy().groupby('icustay_id')\n",
    "labs_grouped.sort = True\n",
    "\n",
    "# Calculate offset between first lab and intime:\n",
    "timings['offset_first_lab'] = labs_grouped.charttime.min()\n",
    "timings['offset_first_lab'] = (timings['offset_first_lab'] - timings['intime']) / timedelta(hours=1)\n",
    "\n",
    "# Calculate offset between last lab and outtime:\n",
    "timings['offset_last_lab'] = labs_grouped.charttime.max()\n",
    "timings['offset_last_lab'] = (timings['offset_last_lab'] - timings['outtime']) / timedelta(hours=1)\n",
    "\n",
    "# Calculate number of labs preceding intime:\n",
    "timings['n_early_labs'] = [(labs_grouped.get_group(i).charttime.to_numpy() < timings.loc[[i]].intime.to_numpy()).sum() for i in timings.index]\n",
    "\n",
    "# Calculate number of labs after outtime:\n",
    "timings['n_late_labs'] = [(labs_grouped.get_group(i).charttime.to_numpy() > timings.loc[[i]].outtime.to_numpy()).sum() for i in timings.index]\n",
    "\n",
    "# Calculate number of labs in between intime and outtime:\n",
    "timings['n_labs']  = [len(labs_grouped.get_group(i)) for i in timings.index]\n",
    "timings['n_labs'] -= timings['n_early_labs']\n",
    "timings['n_labs'] -= timings['n_late_labs']\n",
    "\n",
    "del labs_grouped"
   ]
  },
  {
   "cell_type": "markdown",
   "metadata": {},
   "source": [
    "Check vitals"
   ]
  },
  {
   "cell_type": "code",
   "execution_count": null,
   "metadata": {},
   "outputs": [],
   "source": [
    "vitals_grouped = vitals[['icustay_id', 'charttime']].copy().groupby('icustay_id')\n",
    "vitals_grouped.sort = True\n",
    "\n",
    "# Calculate offset between first vital and intime:\n",
    "timings['offset_first_vital'] = vitals_grouped.charttime.min()\n",
    "timings['offset_first_vital'] = (timings['offset_first_vital'] - timings['intime']) / timedelta(hours=1)\n",
    "\n",
    "# Calculate offset between last vital and outtime:\n",
    "timings['offset_last_vital'] = vitals_grouped.charttime.max()\n",
    "timings['offset_last_vital'] = (timings['offset_last_vital'] - timings['outtime']) / timedelta(hours=1)\n",
    "\n",
    "# Calculate number of vitals preceding intime:\n",
    "timings['n_early_vitals'] = [(vitals_grouped.get_group(i).charttime.to_numpy() < timings.loc[[i]].intime.to_numpy()).sum() for i in timings.index]\n",
    "\n",
    "# Calculate number of vitals after outtime:\n",
    "timings['n_late_vitals'] = [(vitals_grouped.get_group(i).charttime.to_numpy() > timings.loc[[i]].outtime.to_numpy()).sum() for i in timings.index]\n",
    "\n",
    "# Calculate number of vitals in between intime and outtime:\n",
    "timings['n_vitals']  = [len(vitals_grouped.get_group(i)) for i in timings.index]\n",
    "timings['n_vitals'] -= timings['n_early_vitals']\n",
    "timings['n_vitals'] -= timings['n_late_vitals']\n",
    "\n",
    "del vitals_grouped"
   ]
  },
  {
   "cell_type": "markdown",
   "metadata": {},
   "source": [
    "Describe timings"
   ]
  },
  {
   "cell_type": "code",
   "execution_count": null,
   "metadata": {},
   "outputs": [],
   "source": [
    "print(\n",
    "    'All labs and vitals start at the same time: ',\n",
    "    (timings['offset_first_vital'] == timings['offset_first_lab']).to_numpy().all()\n",
    ")\n",
    "timings.describe()"
   ]
  },
  {
   "cell_type": "code",
   "execution_count": null,
   "metadata": {
    "scrolled": true
   },
   "outputs": [],
   "source": [
    "timings.head(5)"
   ]
  },
  {
   "cell_type": "markdown",
   "metadata": {},
   "source": [
    "### Overview of the patient's length of stay per bins"
   ]
  },
  {
   "cell_type": "code",
   "execution_count": null,
   "metadata": {},
   "outputs": [],
   "source": [
    "icu_length_by_class = demographics.groupby(\"los_icu_bin\")['label_death_icu'].value_counts() \n",
    "icu_length_by_class.unstack().plot(kind='bar', stacked= True) \n",
    "data_imputed = demographics.drop(columns=['los_icu_bin'])\n",
    "plt.legend(labels=[\"discharge\",\"death\"])\n",
    "plt.show()"
   ]
  },
  {
   "cell_type": "markdown",
   "metadata": {},
   "source": [
    "## Length of stay in ICU\n",
    "Focusing on the demographics \"los_icu\" we see that there is a big difference between the last quantile (90%) and the maximum value. "
   ]
  },
  {
   "cell_type": "code",
   "execution_count": null,
   "metadata": {},
   "outputs": [],
   "source": [
    "demo_q = demographics['los_icu'].quantile(.9)\n",
    "print(f\"90% Quantile length of stay: {demo_q*24.:.2f}h\")"
   ]
  },
  {
   "cell_type": "code",
   "execution_count": null,
   "metadata": {},
   "outputs": [],
   "source": [
    "print(\"Patients above 90% quantile: \\n\", demographics[demographics.los_icu > demo_q].label_death_icu.value_counts())\n",
    "print(\"Total number of patients: \\n\", demographics.label_death_icu.value_counts())"
   ]
  },
  {
   "cell_type": "markdown",
   "metadata": {},
   "source": [
    "## Data distribution for ICU length of stay"
   ]
  },
  {
   "cell_type": "markdown",
   "metadata": {},
   "source": [
    "Patient's ICU length of stay per hour"
   ]
  },
  {
   "cell_type": "code",
   "execution_count": null,
   "metadata": {},
   "outputs": [],
   "source": [
    "demographics.hist(column='los_icu_hours', bins=np.arange(demographics.los_icu_hours.max()))\n",
    "plt.ylabel('Nº of patients / hour')\n",
    "plt.xlabel('Length of ICU stay (hours)')\n",
    "plt.title(\"(a) Patient’s ICU length of stay per hour\")\n",
    "#plt.savefig(\"Exploratory analysis_a.pdf\", format=\"pdf\", bbox_inches=\"tight\")\n",
    "plt.show()"
   ]
  },
  {
   "cell_type": "markdown",
   "metadata": {},
   "source": [
    "Patient's ICU length of stay for 72h in groups of 8 h"
   ]
  },
  {
   "cell_type": "code",
   "execution_count": null,
   "metadata": {},
   "outputs": [],
   "source": [
    "demographics.hist(column='los_icu_hours', bins=range(8, MIN_LOS_ICU + 49, 8))\n",
    "plt.ylabel('Nº of patients / 8h')\n",
    "plt.xlabel('Length of ICU stay (hours)')\n",
    "plt.title(\"(b) Patient’s ICU length of stay for 72h in groups of 8h\")\n",
    "#plt.savefig(\"Exploratory analysis_b.pdf\", format=\"pdf\", bbox_inches=\"tight\")\n",
    "plt.show()"
   ]
  },
  {
   "cell_type": "markdown",
   "metadata": {},
   "source": [
    "Death patient's ICU length of stay per 1 h"
   ]
  },
  {
   "cell_type": "code",
   "execution_count": null,
   "metadata": {},
   "outputs": [],
   "source": [
    "demographics_death = demographics[demographics.label_death_icu==1]\n",
    "demographics_death.hist(column='los_icu_hours', bins=np.arange(72), color='red')\n",
    "plt.ylabel('Nº death of patients / 1h')\n",
    "plt.xlabel('Length of ICU stay (hours)')\n",
    "plt.title(\"(c) Death patient’s ICU length of stay per 1h\")\n",
    "#plt.savefig(\"Exploratory analysis_c.pdf\", format=\"pdf\", bbox_inches=\"tight\")\n",
    "plt.show()"
   ]
  },
  {
   "cell_type": "markdown",
   "metadata": {},
   "source": [
    "Death patient's ICU length of stau for 72 h in groups of 8 h "
   ]
  },
  {
   "cell_type": "code",
   "execution_count": null,
   "metadata": {},
   "outputs": [],
   "source": [
    "demographics_death.hist(column='los_icu_hours', bins=range(8, MIN_LOS_ICU + 49, 8), color='red')\n",
    "plt.ylabel('Nº of death patients / 8h')\n",
    "plt.xlabel('Length of ICU stay (hours)')\n",
    "plt.title(\"(d) Death patient’s ICU length of stay for 72h in groups of 8h\")\n",
    "#plt.savefig(\"Exploratory analysis_d.pdf\", format=\"pdf\", bbox_inches=\"tight\")\n",
    "plt.show()"
   ]
  },
  {
   "cell_type": "markdown",
   "metadata": {},
   "source": [
    "Patient's count for a minimum length of stay of 8 h, 16 h, 24 h, 32 h, 40 h, 48 h, 72 h"
   ]
  },
  {
   "cell_type": "code",
   "execution_count": null,
   "metadata": {},
   "outputs": [],
   "source": [
    "pat_window = pd.DataFrame()\n",
    "\n",
    "for t in range(8, MIN_LOS_ICU + 48, 8):\n",
    "    pat_window[f'>={t:d}h'] =  demographics[demographics.los_icu_hours >= t].label_death_icu.value_counts()\n",
    "\n",
    "pat_window.loc['Total']= pat_window.sum(numeric_only=True, axis=0)\n",
    "pat_window\n"
   ]
  },
  {
   "cell_type": "markdown",
   "metadata": {},
   "source": [
    "## Print patient distribution:"
   ]
  },
  {
   "cell_type": "code",
   "execution_count": null,
   "metadata": {},
   "outputs": [],
   "source": [
    "f = 100. / len(demographics.icustay_id.unique())\n",
    "\n",
    "def print_distribution(column=None):\n",
    "    # Actual printing happens here:\n",
    "    def __print_internal(data):\n",
    "        if len(data) > 0:\n",
    "            label_counts = data['label_death_icu'].value_counts()\n",
    "            latex = \"\"\n",
    "\n",
    "            if 1 in label_counts:\n",
    "                print(f\"  Number of ICU deaths:       {label_counts[1]:6d} ({label_counts[1]/label_counts.sum()*100.:5.1f}%)\")\n",
    "                latex += f\"& ${label_counts[1]:6,d}$ & ${label_counts[1]*f:5.1f}\\%$ \"\n",
    "            else:\n",
    "                print(f\"  Number of ICU deaths:            0 (  0.0%)\")\n",
    "                latex += f\"& $     0$ & $  0.0\\%$ \"\n",
    "\n",
    "            \n",
    "            if 0 in label_counts:\n",
    "                print(f\"  Number of ICU discharges:   {label_counts[0]:6d} ({label_counts[0]/label_counts.sum()*100.:5.1f}%)\")\n",
    "                latex += f\"& ${label_counts[0]:6,d}$ & ${label_counts[0]*f:5.1f}\\%$ \"\n",
    "            else:\n",
    "                print(f\"  Number of ICU discharges:        0 (  0.0%)\")\n",
    "                latex += f\"& $     0$ & $  0.0\\%$ \"\n",
    "\n",
    "            latex += f\"& ${label_counts.sum():6,d}$ \"\n",
    "            print(f\"Latex: '{latex:s}'\")\n",
    "\n",
    "    # Print overall class distribution if column is None:\n",
    "    if column == None:\n",
    "        __print_internal(demographics)\n",
    "\n",
    "    # Print class distribution of column:\n",
    "    else:\n",
    "        for key in demographics[column].unique():\n",
    "            print(f\"'{key:s}':\")\n",
    "            __print_internal(demographics[demographics[column]==key])\n",
    "            print()"
   ]
  },
  {
   "cell_type": "code",
   "execution_count": null,
   "metadata": {},
   "outputs": [],
   "source": [
    "print_distribution()"
   ]
  },
  {
   "cell_type": "markdown",
   "metadata": {},
   "source": [
    "Print gender distribution:"
   ]
  },
  {
   "cell_type": "code",
   "execution_count": null,
   "metadata": {},
   "outputs": [],
   "source": [
    "print_distribution('gender')"
   ]
  },
  {
   "cell_type": "markdown",
   "metadata": {},
   "source": [
    "Print ethnicity distribution:"
   ]
  },
  {
   "cell_type": "code",
   "execution_count": null,
   "metadata": {},
   "outputs": [],
   "source": [
    "print_distribution('ethnicity_grouped')"
   ]
  },
  {
   "cell_type": "markdown",
   "metadata": {},
   "source": [
    "Print age distribution:"
   ]
  },
  {
   "cell_type": "code",
   "execution_count": null,
   "metadata": {},
   "outputs": [],
   "source": [
    "print_distribution('admission_age_bin')"
   ]
  }
 ],
 "metadata": {
  "kernelspec": {
   "display_name": "Python 3.9.13 64-bit (microsoft store)",
   "language": "python",
   "name": "python3"
  },
  "language_info": {
   "codemirror_mode": {
    "name": "ipython",
    "version": 3
   },
   "file_extension": ".py",
   "mimetype": "text/x-python",
   "name": "python",
   "nbconvert_exporter": "python",
   "pygments_lexer": "ipython3",
   "version": "3.9.13"
  },
  "vscode": {
   "interpreter": {
    "hash": "09804e24ad6773f4299ff941abdb533da0618f58a933eb5ec00c0e9780539224"
   }
  }
 },
 "nbformat": 4,
 "nbformat_minor": 2
}

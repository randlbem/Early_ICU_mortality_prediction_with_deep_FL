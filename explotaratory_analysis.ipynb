{
 "cells": [
  {
   "cell_type": "code",
   "execution_count": null,
   "metadata": {},
   "outputs": [],
   "source": [
    "import psycopg2\n",
    "from datetime import timedelta\n",
    "from sqlalchemy import create_engine\n",
    "import pandas as pd\n",
    "import matplotlib.pyplot as plt \n",
    "import numpy as np\n",
    "import matplotlib\n",
    "\n",
    "latex = True\n",
    "\n",
    "if latex:\n",
    "    matplotlib.use(\"pgf\")\n",
    "    matplotlib.rcParams.update({\n",
    "        \"pgf.texsystem\": \"pdflatex\",\n",
    "        'font.family': 'serif',\n",
    "        'text.usetex': True,\n",
    "        'pgf.rcfonts': False,\n",
    "    })"
   ]
  },
  {
   "cell_type": "code",
   "execution_count": null,
   "metadata": {},
   "outputs": [],
   "source": [
    "WINDOW_LENGTH = 16\n",
    "MIN_LOS_ICU = 48"
   ]
  },
  {
   "cell_type": "markdown",
   "metadata": {},
   "source": [
    "# Load Data"
   ]
  },
  {
   "cell_type": "markdown",
   "metadata": {},
   "source": [
    "### From SQL"
   ]
  },
  {
   "cell_type": "code",
   "execution_count": null,
   "metadata": {},
   "outputs": [],
   "source": [
    "# Connect to db\n",
    "conn = psycopg2.connect(host='localhost', port=5433, dbname='mimic', user='postgres', password='postgres')\n",
    "cur = conn.cursor() \n",
    "\n",
    "# Read vital signs\n",
    "vitals = pd.read_sql_query(f'SELECT * FROM mimiciii.vital_resampled_{WINDOW_LENGTH:d}h(min{MIN_LOS_ICU:d}h);', conn)\n",
    "\n",
    "# Read in labs values\n",
    "labs = pd.read_sql_query(f'SELECT * FROM mimiciii.lab_resampled_{WINDOW_LENGTH:d}h(min{MIN_LOS_ICU:d}h);', conn)\n",
    "\n",
    "# Read demographics\n",
    "demographics = pd.read_sql_query(f'SELECT * FROM mimiciii.demographics_{WINDOW_LENGTH:d}h(min{MIN_LOS_ICU:d}h);', conn)\n",
    "\n",
    "# Close the cursor and connection to so the server can allocate bandwidth to other requests\n",
    "cur.close()\n",
    "conn.close()"
   ]
  },
  {
   "cell_type": "markdown",
   "metadata": {},
   "source": [
    "### From File"
   ]
  },
  {
   "cell_type": "code",
   "execution_count": null,
   "metadata": {},
   "outputs": [],
   "source": [
    "data_path = f'data/min{MIN_LOS_ICU:d}h/'\n",
    "\n",
    "demographics = pd.read_pickle(data_path + f'demographics_{WINDOW_LENGTH:d}h(min{MIN_LOS_ICU:d}h).pickle')\n",
    "vitals = pd.read_pickle(data_path + f'vitals_{WINDOW_LENGTH:d}h(min{MIN_LOS_ICU:d}h).pickle')\n",
    "labs = pd.read_pickle(data_path + f'labs_{WINDOW_LENGTH:d}h(min{MIN_LOS_ICU:d}h).pickle')"
   ]
  },
  {
   "cell_type": "markdown",
   "metadata": {},
   "source": [
    "# Analysis"
   ]
  },
  {
   "cell_type": "markdown",
   "metadata": {},
   "source": [
    "Basic data description and overview"
   ]
  },
  {
   "cell_type": "code",
   "execution_count": null,
   "metadata": {},
   "outputs": [],
   "source": [
    "vitals.head(5)"
   ]
  },
  {
   "cell_type": "code",
   "execution_count": null,
   "metadata": {},
   "outputs": [],
   "source": [
    "vitals.describe()"
   ]
  },
  {
   "cell_type": "code",
   "execution_count": null,
   "metadata": {},
   "outputs": [],
   "source": [
    "labs.head(5)"
   ]
  },
  {
   "cell_type": "code",
   "execution_count": null,
   "metadata": {},
   "outputs": [],
   "source": [
    "labs.describe()"
   ]
  },
  {
   "cell_type": "code",
   "execution_count": null,
   "metadata": {},
   "outputs": [],
   "source": [
    "demographics.describe()"
   ]
  },
  {
   "cell_type": "code",
   "execution_count": null,
   "metadata": {},
   "outputs": [],
   "source": [
    "demographics.info()"
   ]
  },
  {
   "cell_type": "markdown",
   "metadata": {},
   "source": [
    "Check if there is empty data"
   ]
  },
  {
   "cell_type": "code",
   "execution_count": null,
   "metadata": {},
   "outputs": [],
   "source": [
    "demographics.isnull().sum()"
   ]
  },
  {
   "cell_type": "code",
   "execution_count": null,
   "metadata": {},
   "outputs": [],
   "source": [
    "labs.isnull().sum().sum()"
   ]
  },
  {
   "cell_type": "code",
   "execution_count": null,
   "metadata": {},
   "outputs": [],
   "source": [
    "vitals.isnull().sum().sum()"
   ]
  },
  {
   "cell_type": "markdown",
   "metadata": {},
   "source": [
    "### Overview of the patient's length of stay per bins"
   ]
  },
  {
   "cell_type": "code",
   "execution_count": null,
   "metadata": {},
   "outputs": [],
   "source": [
    "demographics_stats = demographics.copy()\n",
    "demographics_stats['los_icu_hours'] = demographics_stats['los_icu']*24\n",
    "demographics_stats['los_icu_bin'] = pd.cut(demographics_stats['los_icu_hours'], bins=[8, 15, 23, 31, 39, 47, 55, 63, 71, 3694.271389], labels=['8-15', '16-23', '24-31', '32-39', '40-47', '48-55', '56-63', '64-71', '>72']) # step 1\n",
    "#demographics_stats['los_icu_bin'] = pd.cut(demographics_stats['los_icu'], bins=range(8)) # step 1\n",
    "demographics_stats['los_icu_bin'] = demographics_stats['los_icu_bin'].astype(str)\n",
    "icu_length_by_class = demographics_stats.groupby(\"los_icu_bin\")['label_death_icu'].value_counts() \n",
    "icu_length_by_class.unstack().plot(kind='bar', stacked= True) \n",
    "data_imputed = demographics_stats.drop(columns=['los_icu_bin'])\n",
    "plt.legend(labels=[\"discharge\",\"death\"])\n",
    "plt.show()"
   ]
  },
  {
   "cell_type": "markdown",
   "metadata": {},
   "source": [
    "## Length of stay in ICU\n",
    "Focusing on the demographics \"los_icu\" we see that there is a big difference between the last quantile (90%) and the maximum value. "
   ]
  },
  {
   "cell_type": "code",
   "execution_count": null,
   "metadata": {},
   "outputs": [],
   "source": [
    "demo_q = demographics_stats['los_icu'].quantile(.9)\n",
    "print(demo_q)"
   ]
  },
  {
   "cell_type": "code",
   "execution_count": null,
   "metadata": {},
   "outputs": [],
   "source": [
    "print(\"Patients above 90% quantile: \\n\", demographics_stats[demographics_stats.los_icu > demo_q].label_death_icu.value_counts())\n",
    "print(\"Total number of patients: \\n\", demographics.label_death_icu.value_counts())"
   ]
  },
  {
   "cell_type": "markdown",
   "metadata": {},
   "source": [
    "## Data distribution for ICU length of stay"
   ]
  },
  {
   "cell_type": "markdown",
   "metadata": {},
   "source": [
    "Total data distribution until the maximum length of stay"
   ]
  },
  {
   "cell_type": "code",
   "execution_count": null,
   "metadata": {},
   "outputs": [],
   "source": [
    "demographics_stats.hist(column='los_icu', bins= 100)"
   ]
  },
  {
   "cell_type": "markdown",
   "metadata": {},
   "source": [
    "Data representation without the last quantile of data"
   ]
  },
  {
   "cell_type": "code",
   "execution_count": null,
   "metadata": {},
   "outputs": [],
   "source": [
    "demographics_8_stats_cut = demographics_stats[demographics_stats.los_icu < demo_q]\n",
    "demographics_8_stats_cut.describe()"
   ]
  },
  {
   "cell_type": "markdown",
   "metadata": {},
   "source": [
    "Data length of stay representation per bins "
   ]
  },
  {
   "cell_type": "code",
   "execution_count": null,
   "metadata": {},
   "outputs": [],
   "source": [
    "demographics_8_stats_cut.hist(column='los_icu_hours', bins= 28)"
   ]
  },
  {
   "cell_type": "markdown",
   "metadata": {},
   "source": [
    "Patient's ICU length of stay per hour"
   ]
  },
  {
   "cell_type": "code",
   "execution_count": null,
   "metadata": {},
   "outputs": [],
   "source": [
    "demographics_8_stats_cut.hist(column='los_icu_hours', bins=np.arange(demographics_8_stats_cut.los_icu_hours.max()))\n",
    "plt.ylabel('Nº of patients / hour')\n",
    "plt.xlabel('Length of ICU stay (hours)')\n",
    "plt.title(\"(a) Patient’s ICU length of stay per hour\")\n",
    "#plt.savefig(\"Exploratory analysis_a.pdf\", format=\"pdf\", bbox_inches=\"tight\")\n",
    "plt.show()"
   ]
  },
  {
   "cell_type": "markdown",
   "metadata": {},
   "source": [
    "Patient's ICU length of stay for 72h in groups of 8 h"
   ]
  },
  {
   "cell_type": "code",
   "execution_count": null,
   "metadata": {},
   "outputs": [],
   "source": [
    "demographics_8_stats_cut2 = demographics_stats[demographics_stats.los_icu_hours < 72]\n",
    "demographics_8_stats_cut2.hist(column='los_icu_hours', bins= [8,16,24,32,40,48,56,64,72])\n",
    "plt.ylabel('Nº of patients / 8h')\n",
    "plt.xlabel('Length of ICU stay (hours)')\n",
    "plt.title(\"(b) Patient’s ICU length of stay for 72h in groups of 8h\")\n",
    "#plt.savefig(\"Exploratory analysis_b.pdf\", format=\"pdf\", bbox_inches=\"tight\")\n",
    "plt.show()"
   ]
  },
  {
   "cell_type": "markdown",
   "metadata": {},
   "source": [
    "Death patient's ICU length of stay per 1 h"
   ]
  },
  {
   "cell_type": "code",
   "execution_count": null,
   "metadata": {},
   "outputs": [],
   "source": [
    "\n",
    "demographics_8_stats_cut_death = demographics_8_stats_cut2[demographics_8_stats_cut2.label_death_icu==1]\n",
    "demographics_8_stats_cut_death.hist(column='los_icu_hours', bins=np.arange(72), color='red')\n",
    "plt.ylabel('Nº death of patients / 1h')\n",
    "plt.xlabel('Length of ICU stay (hours)')\n",
    "plt.title(\"(c) Death patient’s ICU length of stay per 1h\")\n",
    "#plt.savefig(\"Exploratory analysis_c.pdf\", format=\"pdf\", bbox_inches=\"tight\")\n",
    "plt.show()"
   ]
  },
  {
   "cell_type": "markdown",
   "metadata": {},
   "source": [
    "Death patient's ICU length of stau for 72 h in groups of 8 h "
   ]
  },
  {
   "cell_type": "code",
   "execution_count": null,
   "metadata": {},
   "outputs": [],
   "source": [
    "\n",
    "demographics_8_stats_cut_death.hist(column='los_icu_hours', bins= [8,16,24,32,40,48,56,64,72], color='red')\n",
    "plt.ylabel('Nº of death patients / 8h')\n",
    "plt.xlabel('Length of ICU stay (hours)')\n",
    "plt.title(\"(d) Death patient’s ICU length of stay for 72h in groups of 8h\")\n",
    "#plt.savefig(\"Exploratory analysis_d.pdf\", format=\"pdf\", bbox_inches=\"tight\")\n",
    "plt.show()"
   ]
  },
  {
   "cell_type": "markdown",
   "metadata": {},
   "source": [
    "Patient's count for a minimum length of stay of 8 h, 16 h, 24 h, 32 h, 40 h, 48 h, 72 h"
   ]
  },
  {
   "cell_type": "code",
   "execution_count": null,
   "metadata": {},
   "outputs": [],
   "source": [
    "demographics_16 = demographics_8_stats_cut[demographics_8_stats_cut.los_icu_hours >= 16]\n",
    "demographics_24 = demographics_8_stats_cut[demographics_8_stats_cut.los_icu_hours >= 24]\n",
    "demographics_32 = demographics_8_stats_cut[demographics_8_stats_cut.los_icu_hours >= 32]\n",
    "demographics_40 = demographics_8_stats_cut[demographics_8_stats_cut.los_icu_hours >= 40]\n",
    "demographics_48 = demographics_8_stats_cut[demographics_8_stats_cut.los_icu_hours >= 48]\n",
    "demographics_72 = demographics_8_stats_cut[demographics_8_stats_cut.los_icu_hours >= 72]"
   ]
  },
  {
   "cell_type": "code",
   "execution_count": null,
   "metadata": {},
   "outputs": [],
   "source": [
    "pat_window = pd.DataFrame()\n",
    "pat_window['>=8h'] = demographics_8_stats_cut.label_death_icu.value_counts()\n",
    "pat_window['>=16h'] = demographics_16.label_death_icu.value_counts()\n",
    "pat_window['>=24h'] = demographics_24.label_death_icu.value_counts()\n",
    "pat_window['>=32h'] = demographics_32.label_death_icu.value_counts()\n",
    "pat_window['>=40h'] = demographics_40.label_death_icu.value_counts()\n",
    "pat_window['>=48h'] = demographics_48.label_death_icu.value_counts()\n",
    "pat_window['>=72h'] = demographics_72.label_death_icu.value_counts()\n",
    "pat_window.loc['Total']= pat_window.sum(numeric_only=True, axis=0)\n",
    "pat_window\n"
   ]
  }
 ],
 "metadata": {
  "kernelspec": {
   "display_name": "Python 3.9.13 64-bit",
   "language": "python",
   "name": "python3"
  },
  "language_info": {
   "codemirror_mode": {
    "name": "ipython",
    "version": 3
   },
   "file_extension": ".py",
   "mimetype": "text/x-python",
   "name": "python",
   "nbconvert_exporter": "python",
   "pygments_lexer": "ipython3",
   "version": "3.9.13"
  },
  "vscode": {
   "interpreter": {
    "hash": "8e284ee3255a07ad8bf76694974743c4c81cb57e7c969474d752d949b11d721e"
   }
  }
 },
 "nbformat": 4,
 "nbformat_minor": 2
}
